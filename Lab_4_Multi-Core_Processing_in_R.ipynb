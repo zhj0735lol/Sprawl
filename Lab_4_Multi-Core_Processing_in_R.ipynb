{
 "cells": [
  {
   "cell_type": "markdown",
   "metadata": {
    "collapsed": true
   },
   "source": [
    "# Lab 4: Submitting Code on Supercomputer in R\n",
    "\n",
    "### Objective:\n",
    "Learn how to run parallel R on Supercomputer.\n",
    "\n",
    "### Successful outcome:\n",
    "Not only be able to write parallel R script in foreach, but also be able to write PBS and Bash script to submit jobs on terminal."
   ]
  },
  {
   "cell_type": "markdown",
   "metadata": {},
   "source": [
    "## Step 1: Preliminaries:\n",
    "\n",
    "This is a very important first step, many of people who did not have this step may mess up multiple scripts and dependencies. This may cause other people not be able to re-produce what you have had."
   ]
  },
  {
   "cell_type": "code",
   "execution_count": 1,
   "metadata": {},
   "outputs": [
    {
     "name": "stderr",
     "output_type": "stream",
     "text": [
      "Loading required package: readxl\n",
      "Loading required package: data.table\n",
      "Loading required package: ggmap\n",
      "Loading required package: ggplot2\n"
     ]
    },
    {
     "data": {
      "text/html": [
       "<ol>\n",
       "\t<li>NULL</li>\n",
       "\t<li>NULL</li>\n",
       "\t<li>NULL</li>\n",
       "\t<li>NULL</li>\n",
       "</ol>\n"
      ],
      "text/latex": [
       "\\begin{enumerate}\n",
       "\\item NULL\n",
       "\\item NULL\n",
       "\\item NULL\n",
       "\\item NULL\n",
       "\\end{enumerate}\n"
      ],
      "text/markdown": [
       "1. NULL\n",
       "2. NULL\n",
       "3. NULL\n",
       "4. NULL\n",
       "\n",
       "\n"
      ],
      "text/plain": [
       "[[1]]\n",
       "NULL\n",
       "\n",
       "[[2]]\n",
       "NULL\n",
       "\n",
       "[[3]]\n",
       "NULL\n",
       "\n",
       "[[4]]\n",
       "NULL\n"
      ]
     },
     "metadata": {},
     "output_type": "display_data"
    }
   ],
   "source": [
    "## clean the workspace current variables\n",
    "rm(list=ls())\n",
    "\n",
    "## This function will check if a package is installed, and if not, install it\n",
    "pkgTest <- function(x) {\n",
    "  if (!require(x, character.only = TRUE))\n",
    "  {\n",
    "    install.packages(x, dep = TRUE)\n",
    "    if(!require(x, character.only = TRUE)) stop(\"Package not found\")\n",
    "  }\n",
    "}\n",
    "\n",
    "## These lines load the required packages using 'pkgTest' function\n",
    "packages <- c(\"readxl\", \"data.table\", \"ggmap\", \"ggplot2\")\n",
    "lapply(packages, pkgTest)\n",
    "    \n",
    "## the output should be all \"NULL\""
   ]
  },
  {
   "cell_type": "code",
   "execution_count": 2,
   "metadata": {},
   "outputs": [
    {
     "data": {
      "text/html": [
       "'/home/zhang303/ACE_592/Lab_4_Multi-Core_Processing_in_R'"
      ],
      "text/latex": [
       "'/home/zhang303/ACE\\_592/Lab\\_4\\_Multi-Core\\_Processing\\_in\\_R'"
      ],
      "text/markdown": [
       "'/home/zhang303/ACE_592/Lab_4_Multi-Core_Processing_in_R'"
      ],
      "text/plain": [
       "[1] \"/home/zhang303/ACE_592/Lab_4_Multi-Core_Processing_in_R\""
      ]
     },
     "metadata": {},
     "output_type": "display_data"
    }
   ],
   "source": [
    "## find the current working directory\n",
    "getwd()"
   ]
  },
  {
   "cell_type": "markdown",
   "metadata": {},
   "source": [
    "## Step 2: Preprocessing\n",
    "\n",
    "#### Main Goal: \n",
    "1. Reading the required files and datasets\n",
    "2. Adding the fields for modeling\n",
    "\n",
    "This is usually the second steps you would like to do for the data. In this step, you may need to remove NAs, change the data from \"character\" to \"factor\" or otherwise. Sometimes, you may need to create a new field for modeling. For example, you may need to change dates from day into quaterly, that is just one of the exmaple we are frequently used."
   ]
  },
  {
   "cell_type": "code",
   "execution_count": 3,
   "metadata": {
    "collapsed": true
   },
   "outputs": [],
   "source": [
    "## Read the input files under the current working directory\n",
    "US_P <- readRDS(\"United_States_Property.rds\")\n",
    "US_D <- readRDS(\"United_States_Daily.rds\")"
   ]
  },
  {
   "cell_type": "code",
   "execution_count": 4,
   "metadata": {},
   "outputs": [
    {
     "data": {
      "text/html": [
       "<table>\n",
       "<thead><tr><th scope=col>Property.ID</th><th scope=col>Host.ID</th><th scope=col>Listing.Title</th><th scope=col>Property.Type</th><th scope=col>Listing.Type</th><th scope=col>Created.Date</th><th scope=col>Last.Scraped.Date</th><th scope=col>Country</th><th scope=col>State</th><th scope=col>City</th><th scope=col>⋯</th><th scope=col>Count.Reservation.Days.LTM</th><th scope=col>Count.Available.Days.LTM</th><th scope=col>Count.Blocked.Days.LTM</th><th scope=col>Number.of.Photos</th><th scope=col>Business.Ready</th><th scope=col>Instantbook.Enabled</th><th scope=col>Listing.URL</th><th scope=col>Listing.Main.Image.URL</th><th scope=col>Latitude</th><th scope=col>Longitude</th></tr></thead>\n",
       "<tbody>\n",
       "\t<tr><td>87601                                                                                </td><td> 68654                                                                               </td><td>Eugene Get-Away (Sun Room)                                                           </td><td>House                                                                                </td><td>Private room                                                                         </td><td>2017-03-16                                                                           </td><td>2017-05-31                                                                           </td><td>United States                                                                        </td><td>Oregon                                                                               </td><td>Eugene                                                                               </td><td>⋯                                                                                    </td><td> 17                                                                                  </td><td>  0                                                                                  </td><td> 13                                                                                  </td><td>13                                                                                   </td><td>False                                                                                </td><td>No                                                                                   </td><td>https://www.airbnb.com/rooms/87601                                                   </td><td>https://a0.muscache.com/im/pictures/1868780/1bdccf9f_original.jpg?aki_policy=x_large </td><td>44.00863                                                                             </td><td>-123.19604                                                                           </td></tr>\n",
       "\t<tr><td>26012                                                                                </td><td>109589                                                                               </td><td>Sunny 2-story townhouse w garden                                                     </td><td>House                                                                                </td><td>Entire home/apt                                                                      </td><td>2010-04-15                                                                           </td><td>2017-06-02                                                                           </td><td>United States                                                                        </td><td>New York                                                                             </td><td>New York                                                                             </td><td>⋯                                                                                    </td><td>100                                                                                  </td><td>  5                                                                                  </td><td>260                                                                                  </td><td>31                                                                                   </td><td>True                                                                                 </td><td>No                                                                                   </td><td>https://www.airbnb.com/rooms/26012                                                   </td><td>https://a0.muscache.com/im/pictures/68664532/f74dd09e_original.jpg?aki_policy=x_large</td><td>40.68157                                                                             </td><td> -73.98989                                                                           </td></tr>\n",
       "\t<tr><td>82963                                                                                </td><td>451748                                                                               </td><td>Palm Desert Oasis                                                                    </td><td>House                                                                                </td><td>Entire home/apt                                                                      </td><td>2011-03-18                                                                           </td><td>2017-06-01                                                                           </td><td>United States                                                                        </td><td>California                                                                           </td><td>Palm Desert                                                                          </td><td>⋯                                                                                    </td><td>  3                                                                                  </td><td> 27                                                                                  </td><td>  0                                                                                  </td><td>36                                                                                   </td><td>False                                                                                </td><td>No                                                                                   </td><td>https://www.airbnb.com/rooms/82963                                                   </td><td>https://a0.muscache.com/im/pictures/70531770/3eb2f137_original.jpg?aki_policy=x_large</td><td>33.71463                                                                             </td><td>-116.37367                                                                           </td></tr>\n",
       "\t<tr><td>23472                                                                                </td><td> 91808                                                                               </td><td>Cozy Cottage                                                                         </td><td>Cabin                                                                                </td><td>Entire home/apt                                                                      </td><td>2010-03-12                                                                           </td><td>2017-05-30                                                                           </td><td>United States                                                                        </td><td>Wisconsin                                                                            </td><td>Verona                                                                               </td><td>⋯                                                                                    </td><td> 47                                                                                  </td><td>286                                                                                  </td><td>  1                                                                                  </td><td>10                                                                                   </td><td>False                                                                                </td><td>No                                                                                   </td><td>https://www.airbnb.com/rooms/23472                                                   </td><td>https://a0.muscache.com/im/pictures/123650/2df7b8c1_original.jpg?aki_policy=x_large  </td><td>43.03177                                                                             </td><td> -89.62797                                                                           </td></tr>\n",
       "\t<tr><td>44020                                                                                </td><td>101521                                                                               </td><td>2 Bedroom 1 Block to Fullerton L                                                     </td><td>Apartment                                                                            </td><td>Entire home/apt                                                                      </td><td>2010-08-07                                                                           </td><td>2017-06-01                                                                           </td><td>United States                                                                        </td><td>Illinois                                                                             </td><td>Chicago                                                                              </td><td>⋯                                                                                    </td><td> 65                                                                                  </td><td>128                                                                                  </td><td> 17                                                                                  </td><td>18                                                                                   </td><td>False                                                                                </td><td>No                                                                                   </td><td>https://www.airbnb.com/rooms/44020                                                   </td><td>https://a0.muscache.com/im/pictures/730606/d0ff831f_original.jpg?aki_policy=x_large  </td><td>41.92673                                                                             </td><td> -87.65731                                                                           </td></tr>\n",
       "\t<tr><td>94059                                                                                </td><td>486032                                                                               </td><td><span style=white-space:pre-wrap>\"Psycho\"- Sigmund Freud Suite   </span>             </td><td>Bed &amp; Breakfast                                                                  </td><td>Entire home/apt                                                                      </td><td>2011-04-11                                                                           </td><td>2017-06-01                                                                           </td><td>United States                                                                        </td><td>Massachusetts                                                                        </td><td>Southbridge                                                                          </td><td>⋯                                                                                    </td><td> 34                                                                                  </td><td>172                                                                                  </td><td><span style=white-space:pre-wrap>  8</span>                                          </td><td>35                                                                                   </td><td>False                                                                                </td><td>No                                                                                   </td><td>https://www.airbnb.com/rooms/94059                                                   </td><td>https://a0.muscache.com/im/pictures/6978898/adb70aab_original.jpg?aki_policy=x_large </td><td>42.07687                                                                             </td><td> -72.03798                                                                           </td></tr>\n",
       "</tbody>\n",
       "</table>\n"
      ],
      "text/latex": [
       "\\begin{tabular}{r|llllllllllllllllllllllllllllllllllllllllllllll}\n",
       " Property.ID & Host.ID & Listing.Title & Property.Type & Listing.Type & Created.Date & Last.Scraped.Date & Country & State & City & ⋯ & Count.Reservation.Days.LTM & Count.Available.Days.LTM & Count.Blocked.Days.LTM & Number.of.Photos & Business.Ready & Instantbook.Enabled & Listing.URL & Listing.Main.Image.URL & Latitude & Longitude\\\\\n",
       "\\hline\n",
       "\t 87601                                                                                       &  68654                                                                                      & Eugene Get-Away (Sun Room)                                                                  & House                                                                                       & Private room                                                                                & 2017-03-16                                                                                  & 2017-05-31                                                                                  & United States                                                                               & Oregon                                                                                      & Eugene                                                                                      & ⋯                                                                                           &  17                                                                                         &   0                                                                                         &  13                                                                                         & 13                                                                                          & False                                                                                       & No                                                                                          & https://www.airbnb.com/rooms/87601                                                          & https://a0.muscache.com/im/pictures/1868780/1bdccf9f\\_original.jpg?aki\\_policy=x\\_large  & 44.00863                                                                                    & -123.19604                                                                                 \\\\\n",
       "\t 26012                                                                                       & 109589                                                                                      & Sunny 2-story townhouse w garden                                                            & House                                                                                       & Entire home/apt                                                                             & 2010-04-15                                                                                  & 2017-06-02                                                                                  & United States                                                                               & New York                                                                                    & New York                                                                                    & ⋯                                                                                           & 100                                                                                         &   5                                                                                         & 260                                                                                         & 31                                                                                          & True                                                                                        & No                                                                                          & https://www.airbnb.com/rooms/26012                                                          & https://a0.muscache.com/im/pictures/68664532/f74dd09e\\_original.jpg?aki\\_policy=x\\_large & 40.68157                                                                                    &  -73.98989                                                                                 \\\\\n",
       "\t 82963                                                                                       & 451748                                                                                      & Palm Desert Oasis                                                                           & House                                                                                       & Entire home/apt                                                                             & 2011-03-18                                                                                  & 2017-06-01                                                                                  & United States                                                                               & California                                                                                  & Palm Desert                                                                                 & ⋯                                                                                           &   3                                                                                         &  27                                                                                         &   0                                                                                         & 36                                                                                          & False                                                                                       & No                                                                                          & https://www.airbnb.com/rooms/82963                                                          & https://a0.muscache.com/im/pictures/70531770/3eb2f137\\_original.jpg?aki\\_policy=x\\_large & 33.71463                                                                                    & -116.37367                                                                                 \\\\\n",
       "\t 23472                                                                                       &  91808                                                                                      & Cozy Cottage                                                                                & Cabin                                                                                       & Entire home/apt                                                                             & 2010-03-12                                                                                  & 2017-05-30                                                                                  & United States                                                                               & Wisconsin                                                                                   & Verona                                                                                      & ⋯                                                                                           &  47                                                                                         & 286                                                                                         &   1                                                                                         & 10                                                                                          & False                                                                                       & No                                                                                          & https://www.airbnb.com/rooms/23472                                                          & https://a0.muscache.com/im/pictures/123650/2df7b8c1\\_original.jpg?aki\\_policy=x\\_large   & 43.03177                                                                                    &  -89.62797                                                                                 \\\\\n",
       "\t 44020                                                                                       & 101521                                                                                      & 2 Bedroom 1 Block to Fullerton L                                                            & Apartment                                                                                   & Entire home/apt                                                                             & 2010-08-07                                                                                  & 2017-06-01                                                                                  & United States                                                                               & Illinois                                                                                    & Chicago                                                                                     & ⋯                                                                                           &  65                                                                                         & 128                                                                                         &  17                                                                                         & 18                                                                                          & False                                                                                       & No                                                                                          & https://www.airbnb.com/rooms/44020                                                          & https://a0.muscache.com/im/pictures/730606/d0ff831f\\_original.jpg?aki\\_policy=x\\_large   & 41.92673                                                                                    &  -87.65731                                                                                 \\\\\n",
       "\t 94059                                                                                       & 486032                                                                                      & \"Psycho\"- Sigmund Freud Suite                                                               & Bed \\& Breakfast                                                                           & Entire home/apt                                                                             & 2011-04-11                                                                                  & 2017-06-01                                                                                  & United States                                                                               & Massachusetts                                                                               & Southbridge                                                                                 & ⋯                                                                                           &  34                                                                                         & 172                                                                                         &   8                                                                                         & 35                                                                                          & False                                                                                       & No                                                                                          & https://www.airbnb.com/rooms/94059                                                          & https://a0.muscache.com/im/pictures/6978898/adb70aab\\_original.jpg?aki\\_policy=x\\_large  & 42.07687                                                                                    &  -72.03798                                                                                 \\\\\n",
       "\\end{tabular}\n"
      ],
      "text/markdown": [
       "\n",
       "Property.ID | Host.ID | Listing.Title | Property.Type | Listing.Type | Created.Date | Last.Scraped.Date | Country | State | City | ⋯ | Count.Reservation.Days.LTM | Count.Available.Days.LTM | Count.Blocked.Days.LTM | Number.of.Photos | Business.Ready | Instantbook.Enabled | Listing.URL | Listing.Main.Image.URL | Latitude | Longitude | \n",
       "|---|---|---|---|---|---|\n",
       "| 87601                                                                                 |  68654                                                                                | Eugene Get-Away (Sun Room)                                                            | House                                                                                 | Private room                                                                          | 2017-03-16                                                                            | 2017-05-31                                                                            | United States                                                                         | Oregon                                                                                | Eugene                                                                                | ⋯                                                                                     |  17                                                                                   |   0                                                                                   |  13                                                                                   | 13                                                                                    | False                                                                                 | No                                                                                    | https://www.airbnb.com/rooms/87601                                                    | https://a0.muscache.com/im/pictures/1868780/1bdccf9f_original.jpg?aki_policy=x_large  | 44.00863                                                                              | -123.19604                                                                            | \n",
       "| 26012                                                                                 | 109589                                                                                | Sunny 2-story townhouse w garden                                                      | House                                                                                 | Entire home/apt                                                                       | 2010-04-15                                                                            | 2017-06-02                                                                            | United States                                                                         | New York                                                                              | New York                                                                              | ⋯                                                                                     | 100                                                                                   |   5                                                                                   | 260                                                                                   | 31                                                                                    | True                                                                                  | No                                                                                    | https://www.airbnb.com/rooms/26012                                                    | https://a0.muscache.com/im/pictures/68664532/f74dd09e_original.jpg?aki_policy=x_large | 40.68157                                                                              |  -73.98989                                                                            | \n",
       "| 82963                                                                                 | 451748                                                                                | Palm Desert Oasis                                                                     | House                                                                                 | Entire home/apt                                                                       | 2011-03-18                                                                            | 2017-06-01                                                                            | United States                                                                         | California                                                                            | Palm Desert                                                                           | ⋯                                                                                     |   3                                                                                   |  27                                                                                   |   0                                                                                   | 36                                                                                    | False                                                                                 | No                                                                                    | https://www.airbnb.com/rooms/82963                                                    | https://a0.muscache.com/im/pictures/70531770/3eb2f137_original.jpg?aki_policy=x_large | 33.71463                                                                              | -116.37367                                                                            | \n",
       "| 23472                                                                                 |  91808                                                                                | Cozy Cottage                                                                          | Cabin                                                                                 | Entire home/apt                                                                       | 2010-03-12                                                                            | 2017-05-30                                                                            | United States                                                                         | Wisconsin                                                                             | Verona                                                                                | ⋯                                                                                     |  47                                                                                   | 286                                                                                   |   1                                                                                   | 10                                                                                    | False                                                                                 | No                                                                                    | https://www.airbnb.com/rooms/23472                                                    | https://a0.muscache.com/im/pictures/123650/2df7b8c1_original.jpg?aki_policy=x_large   | 43.03177                                                                              |  -89.62797                                                                            | \n",
       "| 44020                                                                                 | 101521                                                                                | 2 Bedroom 1 Block to Fullerton L                                                      | Apartment                                                                             | Entire home/apt                                                                       | 2010-08-07                                                                            | 2017-06-01                                                                            | United States                                                                         | Illinois                                                                              | Chicago                                                                               | ⋯                                                                                     |  65                                                                                   | 128                                                                                   |  17                                                                                   | 18                                                                                    | False                                                                                 | No                                                                                    | https://www.airbnb.com/rooms/44020                                                    | https://a0.muscache.com/im/pictures/730606/d0ff831f_original.jpg?aki_policy=x_large   | 41.92673                                                                              |  -87.65731                                                                            | \n",
       "| 94059                                                                                 | 486032                                                                                | \"Psycho\"- Sigmund Freud Suite                                                         | Bed & Breakfast                                                                       | Entire home/apt                                                                       | 2011-04-11                                                                            | 2017-06-01                                                                            | United States                                                                         | Massachusetts                                                                         | Southbridge                                                                           | ⋯                                                                                     |  34                                                                                   | 172                                                                                   |   8                                                                                   | 35                                                                                    | False                                                                                 | No                                                                                    | https://www.airbnb.com/rooms/94059                                                    | https://a0.muscache.com/im/pictures/6978898/adb70aab_original.jpg?aki_policy=x_large  | 42.07687                                                                              |  -72.03798                                                                            | \n",
       "\n",
       "\n"
      ],
      "text/plain": [
       "  Property.ID Host.ID Listing.Title                    Property.Type  \n",
       "1 87601        68654  Eugene Get-Away (Sun Room)       House          \n",
       "2 26012       109589  Sunny 2-story townhouse w garden House          \n",
       "3 82963       451748  Palm Desert Oasis                House          \n",
       "4 23472        91808  Cozy Cottage                     Cabin          \n",
       "5 44020       101521  2 Bedroom 1 Block to Fullerton L Apartment      \n",
       "6 94059       486032  \"Psycho\"- Sigmund Freud Suite    Bed & Breakfast\n",
       "  Listing.Type    Created.Date Last.Scraped.Date Country       State        \n",
       "1 Private room    2017-03-16   2017-05-31        United States Oregon       \n",
       "2 Entire home/apt 2010-04-15   2017-06-02        United States New York     \n",
       "3 Entire home/apt 2011-03-18   2017-06-01        United States California   \n",
       "4 Entire home/apt 2010-03-12   2017-05-30        United States Wisconsin    \n",
       "5 Entire home/apt 2010-08-07   2017-06-01        United States Illinois     \n",
       "6 Entire home/apt 2011-04-11   2017-06-01        United States Massachusetts\n",
       "  City        ⋯ Count.Reservation.Days.LTM Count.Available.Days.LTM\n",
       "1 Eugene      ⋯  17                          0                     \n",
       "2 New York    ⋯ 100                          5                     \n",
       "3 Palm Desert ⋯   3                         27                     \n",
       "4 Verona      ⋯  47                        286                     \n",
       "5 Chicago     ⋯  65                        128                     \n",
       "6 Southbridge ⋯  34                        172                     \n",
       "  Count.Blocked.Days.LTM Number.of.Photos Business.Ready Instantbook.Enabled\n",
       "1  13                    13               False          No                 \n",
       "2 260                    31               True           No                 \n",
       "3   0                    36               False          No                 \n",
       "4   1                    10               False          No                 \n",
       "5  17                    18               False          No                 \n",
       "6   8                    35               False          No                 \n",
       "  Listing.URL                       \n",
       "1 https://www.airbnb.com/rooms/87601\n",
       "2 https://www.airbnb.com/rooms/26012\n",
       "3 https://www.airbnb.com/rooms/82963\n",
       "4 https://www.airbnb.com/rooms/23472\n",
       "5 https://www.airbnb.com/rooms/44020\n",
       "6 https://www.airbnb.com/rooms/94059\n",
       "  Listing.Main.Image.URL                                                               \n",
       "1 https://a0.muscache.com/im/pictures/1868780/1bdccf9f_original.jpg?aki_policy=x_large \n",
       "2 https://a0.muscache.com/im/pictures/68664532/f74dd09e_original.jpg?aki_policy=x_large\n",
       "3 https://a0.muscache.com/im/pictures/70531770/3eb2f137_original.jpg?aki_policy=x_large\n",
       "4 https://a0.muscache.com/im/pictures/123650/2df7b8c1_original.jpg?aki_policy=x_large  \n",
       "5 https://a0.muscache.com/im/pictures/730606/d0ff831f_original.jpg?aki_policy=x_large  \n",
       "6 https://a0.muscache.com/im/pictures/6978898/adb70aab_original.jpg?aki_policy=x_large \n",
       "  Latitude Longitude \n",
       "1 44.00863 -123.19604\n",
       "2 40.68157  -73.98989\n",
       "3 33.71463 -116.37367\n",
       "4 43.03177  -89.62797\n",
       "5 41.92673  -87.65731\n",
       "6 42.07687  -72.03798"
      ]
     },
     "metadata": {},
     "output_type": "display_data"
    }
   ],
   "source": [
    "## now we can exam the US_P & US_D by printing the first 5 elements.\n",
    "head(US_P)"
   ]
  },
  {
   "cell_type": "code",
   "execution_count": 5,
   "metadata": {},
   "outputs": [
    {
     "data": {
      "text/html": [
       "<table>\n",
       "<thead><tr><th scope=col>Property.ID</th><th scope=col>Date</th><th scope=col>Status</th><th scope=col>Price</th><th scope=col>Booked.Date</th><th scope=col>Reservation.ID</th></tr></thead>\n",
       "<tbody>\n",
       "\t<tr><td>6         </td><td>2014-11-01</td><td>A         </td><td>65        </td><td>          </td><td>NA        </td></tr>\n",
       "\t<tr><td>6         </td><td>2014-11-02</td><td>A         </td><td>65        </td><td>          </td><td>NA        </td></tr>\n",
       "\t<tr><td>6         </td><td>2014-11-03</td><td>A         </td><td>65        </td><td>          </td><td>NA        </td></tr>\n",
       "\t<tr><td>6         </td><td>2014-11-04</td><td>A         </td><td>65        </td><td>          </td><td>NA        </td></tr>\n",
       "\t<tr><td>6         </td><td>2014-11-05</td><td>A         </td><td>65        </td><td>          </td><td>NA        </td></tr>\n",
       "\t<tr><td>6         </td><td>2014-11-06</td><td>A         </td><td>65        </td><td>          </td><td>NA        </td></tr>\n",
       "</tbody>\n",
       "</table>\n"
      ],
      "text/latex": [
       "\\begin{tabular}{r|llllll}\n",
       " Property.ID & Date & Status & Price & Booked.Date & Reservation.ID\\\\\n",
       "\\hline\n",
       "\t 6          & 2014-11-01 & A          & 65         &            & NA        \\\\\n",
       "\t 6          & 2014-11-02 & A          & 65         &            & NA        \\\\\n",
       "\t 6          & 2014-11-03 & A          & 65         &            & NA        \\\\\n",
       "\t 6          & 2014-11-04 & A          & 65         &            & NA        \\\\\n",
       "\t 6          & 2014-11-05 & A          & 65         &            & NA        \\\\\n",
       "\t 6          & 2014-11-06 & A          & 65         &            & NA        \\\\\n",
       "\\end{tabular}\n"
      ],
      "text/markdown": [
       "\n",
       "Property.ID | Date | Status | Price | Booked.Date | Reservation.ID | \n",
       "|---|---|---|---|---|---|\n",
       "| 6          | 2014-11-01 | A          | 65         |            | NA         | \n",
       "| 6          | 2014-11-02 | A          | 65         |            | NA         | \n",
       "| 6          | 2014-11-03 | A          | 65         |            | NA         | \n",
       "| 6          | 2014-11-04 | A          | 65         |            | NA         | \n",
       "| 6          | 2014-11-05 | A          | 65         |            | NA         | \n",
       "| 6          | 2014-11-06 | A          | 65         |            | NA         | \n",
       "\n",
       "\n"
      ],
      "text/plain": [
       "  Property.ID Date       Status Price Booked.Date Reservation.ID\n",
       "1 6           2014-11-01 A      65                NA            \n",
       "2 6           2014-11-02 A      65                NA            \n",
       "3 6           2014-11-03 A      65                NA            \n",
       "4 6           2014-11-04 A      65                NA            \n",
       "5 6           2014-11-05 A      65                NA            \n",
       "6 6           2014-11-06 A      65                NA            "
      ]
     },
     "metadata": {},
     "output_type": "display_data"
    }
   ],
   "source": [
    "## Continue previous work\n",
    "head(US_D)"
   ]
  },
  {
   "cell_type": "code",
   "execution_count": 6,
   "metadata": {
    "collapsed": true
   },
   "outputs": [],
   "source": [
    "## Creating the city & state field\n",
    "US_P$City_State <- paste(US_P$City,\"_\", US_P$State, sep=\"\")"
   ]
  },
  {
   "cell_type": "code",
   "execution_count": 7,
   "metadata": {},
   "outputs": [
    {
     "name": "stdout",
     "output_type": "stream",
     "text": [
      "[1] \"Eugene_Oregon\"             \"Palm Desert_California\"   \n",
      "[3] \"Verona_Wisconsin\"          \"Chicago_Illinois\"         \n",
      "[5] \"Southbridge_Massachusetts\"\n"
     ]
    }
   ],
   "source": [
    "## select all unique \n",
    "Markets  <- unique(US_P$City_State, incomparables=FALSE)\n",
    "\n",
    "## for this excercise we will only use the first 10 markets\n",
    "Markets1 <- Markets[c(1,3,4,5,6)]\n",
    "print(Markets1)"
   ]
  },
  {
   "cell_type": "code",
   "execution_count": 8,
   "metadata": {},
   "outputs": [
    {
     "data": {
      "text/html": [
       "TRUE"
      ],
      "text/latex": [
       "TRUE"
      ],
      "text/markdown": [
       "TRUE"
      ],
      "text/plain": [
       "[1] TRUE"
      ]
     },
     "metadata": {},
     "output_type": "display_data"
    }
   ],
   "source": [
    "## creating a file to store the outputs\n",
    "if(!dir.exists(\"output\")){\n",
    "    dir.create(\"output\")\n",
    "}\n",
    "dir.exists(\"output\")"
   ]
  },
  {
   "cell_type": "markdown",
   "metadata": {},
   "source": [
    "## Step 3: Modeling & Plotting\n",
    "\n",
    "This step is usually when the parallelization and modification could happen for a data analytic application. In our case, we will need to go through all cities in the market and plotting them out in terms of \"Revenue\" and \"Potential Revenue\". "
   ]
  },
  {
   "cell_type": "code",
   "execution_count": 9,
   "metadata": {},
   "outputs": [
    {
     "data": {
      "text/html": [
       "'Eugene_Oregon'"
      ],
      "text/latex": [
       "'Eugene\\_Oregon'"
      ],
      "text/markdown": [
       "'Eugene_Oregon'"
      ],
      "text/plain": [
       "[1] \"Eugene_Oregon\""
      ]
     },
     "metadata": {},
     "output_type": "display_data"
    }
   ],
   "source": [
    "## in this example for serial process, we will just choose one specific city to show\n",
    "y <- Markets[1]\n",
    "y"
   ]
  },
  {
   "cell_type": "code",
   "execution_count": 34,
   "metadata": {},
   "outputs": [
    {
     "data": {
      "text/html": [
       "<table>\n",
       "<thead><tr><th></th><th scope=col>Property.ID</th><th scope=col>Host.ID</th><th scope=col>Listing.Title</th><th scope=col>Property.Type</th><th scope=col>Listing.Type</th><th scope=col>Created.Date</th><th scope=col>Last.Scraped.Date</th><th scope=col>Country</th><th scope=col>State</th><th scope=col>City</th><th scope=col>⋯</th><th scope=col>Count.Available.Days.LTM</th><th scope=col>Count.Blocked.Days.LTM</th><th scope=col>Number.of.Photos</th><th scope=col>Business.Ready</th><th scope=col>Instantbook.Enabled</th><th scope=col>Listing.URL</th><th scope=col>Listing.Main.Image.URL</th><th scope=col>Latitude</th><th scope=col>Longitude</th><th scope=col>City_State</th></tr></thead>\n",
       "<tbody>\n",
       "\t<tr><th scope=row>1</th><td>87601                                                                                </td><td> 68654                                                                               </td><td>Eugene Get-Away (Sun Room)                                                           </td><td>House                                                                                </td><td>Private room                                                                         </td><td>2017-03-16                                                                           </td><td>2017-05-31                                                                           </td><td>United States                                                                        </td><td>Oregon                                                                               </td><td>Eugene                                                                               </td><td>⋯                                                                                    </td><td>  0                                                                                  </td><td>13                                                                                   </td><td>13                                                                                   </td><td>False                                                                                </td><td>No                                                                                   </td><td>https://www.airbnb.com/rooms/87601                                                   </td><td>https://a0.muscache.com/im/pictures/1868780/1bdccf9f_original.jpg?aki_policy=x_large </td><td>44.00863                                                                             </td><td>-123.1960                                                                            </td><td>Eugene_Oregon                                                                        </td></tr>\n",
       "\t<tr><th scope=row>563</th><td>37609                                                                                </td><td>161959                                                                               </td><td>Feels like a forest cabin!                                                           </td><td>Bungalow                                                                             </td><td>Entire home/apt                                                                      </td><td>2010-07-06                                                                           </td><td>2017-03-25                                                                           </td><td>United States                                                                        </td><td>Oregon                                                                               </td><td>Eugene                                                                               </td><td>⋯                                                                                    </td><td> 45                                                                                  </td><td>13                                                                                   </td><td> 6                                                                                   </td><td>False                                                                                </td><td>No                                                                                   </td><td>https://www.airbnb.com/rooms/37609                                                   </td><td>https://a0.muscache.com/im/pictures/67162e4f-98cc-4087-9d1a-d03f421512e1.jpg         </td><td>44.07781                                                                             </td><td>-123.0899                                                                            </td><td>Eugene_Oregon                                                                        </td></tr>\n",
       "\t<tr><th scope=row>1086</th><td>87035                                                                                </td><td>105888                                                                               </td><td>Quiet Suite in South Eugene Home                                                     </td><td>Guest suite                                                                          </td><td>Private room                                                                         </td><td>2011-04-01                                                                           </td><td>2017-05-31                                                                           </td><td>United States                                                                        </td><td>Oregon                                                                               </td><td>Eugene                                                                               </td><td>⋯                                                                                    </td><td>122                                                                                  </td><td>78                                                                                   </td><td>26                                                                                   </td><td>False                                                                                </td><td>No                                                                                   </td><td>https://www.airbnb.com/rooms/87035                                                   </td><td>https://a0.muscache.com/im/pictures/1816567/b5c170a5_original.jpg?aki_policy=x_large </td><td>44.01144                                                                             </td><td>-123.0795                                                                            </td><td>Eugene_Oregon                                                                        </td></tr>\n",
       "\t<tr><th scope=row>2922</th><td>49056                                                                                </td><td>223619                                                                               </td><td>Fabulous Views. Unique. Close to UO.                                                 </td><td>House                                                                                </td><td>Entire home/apt                                                                      </td><td>2010-09-05                                                                           </td><td>2017-06-01                                                                           </td><td>United States                                                                        </td><td>Oregon                                                                               </td><td>Eugene                                                                               </td><td>⋯                                                                                    </td><td> 76                                                                                  </td><td> 2                                                                                   </td><td>67                                                                                   </td><td>False                                                                                </td><td>No                                                                                   </td><td>https://www.airbnb.com/rooms/49056                                                   </td><td>https://a0.muscache.com/im/pictures/20004102/d97d6aba_original.jpg?aki_policy=x_large</td><td>44.04468                                                                             </td><td>-123.0555                                                                            </td><td>Eugene_Oregon                                                                        </td></tr>\n",
       "\t<tr><th scope=row>3457</th><td>27219                                                                                </td><td> 68654                                                                               </td><td>Eugene Get-Away (Garden Room)                                                        </td><td>House                                                                                </td><td>Private room                                                                         </td><td>2017-03-16                                                                           </td><td>2017-06-01                                                                           </td><td>United States                                                                        </td><td>Oregon                                                                               </td><td>Eugene                                                                               </td><td>⋯                                                                                    </td><td>  0                                                                                  </td><td>13                                                                                   </td><td>23                                                                                   </td><td>False                                                                                </td><td>No                                                                                   </td><td>https://www.airbnb.com/rooms/27219                                                   </td><td>https://a0.muscache.com/im/pictures/1831641/76f9c73f_original.jpg?aki_policy=x_large </td><td>44.00631                                                                             </td><td>-123.1984                                                                            </td><td>Eugene_Oregon                                                                        </td></tr>\n",
       "\t<tr><th scope=row>3598</th><td>40218                                                                                </td><td>169866                                                                               </td><td>Downtown Bungalow                                                                    </td><td>House                                                                                </td><td>Private room                                                                         </td><td>2010-07-18                                                                           </td><td>2017-05-31                                                                           </td><td>United States                                                                        </td><td>Oregon                                                                               </td><td>Eugene                                                                               </td><td>⋯                                                                                    </td><td>218                                                                                  </td><td>18                                                                                   </td><td>15                                                                                   </td><td>False                                                                                </td><td>No                                                                                   </td><td>https://www.airbnb.com/rooms/40218                                                   </td><td>https://a0.muscache.com/im/pictures/3102298/054c7636_original.jpg?aki_policy=x_large </td><td>44.04887                                                                             </td><td>-123.1062                                                                            </td><td>Eugene_Oregon                                                                        </td></tr>\n",
       "</tbody>\n",
       "</table>\n"
      ],
      "text/latex": [
       "\\begin{tabular}{r|lllllllllllllllllllllllllllllllllllllllllllllll}\n",
       "  & Property.ID & Host.ID & Listing.Title & Property.Type & Listing.Type & Created.Date & Last.Scraped.Date & Country & State & City & ⋯ & Count.Available.Days.LTM & Count.Blocked.Days.LTM & Number.of.Photos & Business.Ready & Instantbook.Enabled & Listing.URL & Listing.Main.Image.URL & Latitude & Longitude & City\\_State\\\\\n",
       "\\hline\n",
       "\t1 & 87601                                                                                       &  68654                                                                                      & Eugene Get-Away (Sun Room)                                                                  & House                                                                                       & Private room                                                                                & 2017-03-16                                                                                  & 2017-05-31                                                                                  & United States                                                                               & Oregon                                                                                      & Eugene                                                                                      & ⋯                                                                                           &   0                                                                                         & 13                                                                                          & 13                                                                                          & False                                                                                       & No                                                                                          & https://www.airbnb.com/rooms/87601                                                          & https://a0.muscache.com/im/pictures/1868780/1bdccf9f\\_original.jpg?aki\\_policy=x\\_large  & 44.00863                                                                                    & -123.1960                                                                                   & Eugene\\_Oregon                                                                            \\\\\n",
       "\t563 & 37609                                                                                 & 161959                                                                                & Feels like a forest cabin!                                                            & Bungalow                                                                              & Entire home/apt                                                                       & 2010-07-06                                                                            & 2017-03-25                                                                            & United States                                                                         & Oregon                                                                                & Eugene                                                                                & ⋯                                                                                     &  45                                                                                   & 13                                                                                    &  6                                                                                    & False                                                                                 & No                                                                                    & https://www.airbnb.com/rooms/37609                                                    & https://a0.muscache.com/im/pictures/67162e4f-98cc-4087-9d1a-d03f421512e1.jpg          & 44.07781                                                                              & -123.0899                                                                             & Eugene\\_Oregon                                                                      \\\\\n",
       "\t1086 & 87035                                                                                       & 105888                                                                                      & Quiet Suite in South Eugene Home                                                            & Guest suite                                                                                 & Private room                                                                                & 2011-04-01                                                                                  & 2017-05-31                                                                                  & United States                                                                               & Oregon                                                                                      & Eugene                                                                                      & ⋯                                                                                           & 122                                                                                         & 78                                                                                          & 26                                                                                          & False                                                                                       & No                                                                                          & https://www.airbnb.com/rooms/87035                                                          & https://a0.muscache.com/im/pictures/1816567/b5c170a5\\_original.jpg?aki\\_policy=x\\_large  & 44.01144                                                                                    & -123.0795                                                                                   & Eugene\\_Oregon                                                                            \\\\\n",
       "\t2922 & 49056                                                                                       & 223619                                                                                      & Fabulous Views. Unique. Close to UO.                                                        & House                                                                                       & Entire home/apt                                                                             & 2010-09-05                                                                                  & 2017-06-01                                                                                  & United States                                                                               & Oregon                                                                                      & Eugene                                                                                      & ⋯                                                                                           &  76                                                                                         &  2                                                                                          & 67                                                                                          & False                                                                                       & No                                                                                          & https://www.airbnb.com/rooms/49056                                                          & https://a0.muscache.com/im/pictures/20004102/d97d6aba\\_original.jpg?aki\\_policy=x\\_large & 44.04468                                                                                    & -123.0555                                                                                   & Eugene\\_Oregon                                                                            \\\\\n",
       "\t3457 & 27219                                                                                       &  68654                                                                                      & Eugene Get-Away (Garden Room)                                                               & House                                                                                       & Private room                                                                                & 2017-03-16                                                                                  & 2017-06-01                                                                                  & United States                                                                               & Oregon                                                                                      & Eugene                                                                                      & ⋯                                                                                           &   0                                                                                         & 13                                                                                          & 23                                                                                          & False                                                                                       & No                                                                                          & https://www.airbnb.com/rooms/27219                                                          & https://a0.muscache.com/im/pictures/1831641/76f9c73f\\_original.jpg?aki\\_policy=x\\_large  & 44.00631                                                                                    & -123.1984                                                                                   & Eugene\\_Oregon                                                                            \\\\\n",
       "\t3598 & 40218                                                                                       & 169866                                                                                      & Downtown Bungalow                                                                           & House                                                                                       & Private room                                                                                & 2010-07-18                                                                                  & 2017-05-31                                                                                  & United States                                                                               & Oregon                                                                                      & Eugene                                                                                      & ⋯                                                                                           & 218                                                                                         & 18                                                                                          & 15                                                                                          & False                                                                                       & No                                                                                          & https://www.airbnb.com/rooms/40218                                                          & https://a0.muscache.com/im/pictures/3102298/054c7636\\_original.jpg?aki\\_policy=x\\_large  & 44.04887                                                                                    & -123.1062                                                                                   & Eugene\\_Oregon                                                                            \\\\\n",
       "\\end{tabular}\n"
      ],
      "text/markdown": [
       "\n",
       "| <!--/--> | Property.ID | Host.ID | Listing.Title | Property.Type | Listing.Type | Created.Date | Last.Scraped.Date | Country | State | City | ⋯ | Count.Available.Days.LTM | Count.Blocked.Days.LTM | Number.of.Photos | Business.Ready | Instantbook.Enabled | Listing.URL | Listing.Main.Image.URL | Latitude | Longitude | City_State | \n",
       "|---|---|---|---|---|---|\n",
       "| 1 | 87601                                                                                 |  68654                                                                                | Eugene Get-Away (Sun Room)                                                            | House                                                                                 | Private room                                                                          | 2017-03-16                                                                            | 2017-05-31                                                                            | United States                                                                         | Oregon                                                                                | Eugene                                                                                | ⋯                                                                                     |   0                                                                                   | 13                                                                                    | 13                                                                                    | False                                                                                 | No                                                                                    | https://www.airbnb.com/rooms/87601                                                    | https://a0.muscache.com/im/pictures/1868780/1bdccf9f_original.jpg?aki_policy=x_large  | 44.00863                                                                              | -123.1960                                                                             | Eugene_Oregon                                                                         | \n",
       "| 563 | 37609                                                                                 | 161959                                                                                | Feels like a forest cabin!                                                            | Bungalow                                                                              | Entire home/apt                                                                       | 2010-07-06                                                                            | 2017-03-25                                                                            | United States                                                                         | Oregon                                                                                | Eugene                                                                                | ⋯                                                                                     |  45                                                                                   | 13                                                                                    |  6                                                                                    | False                                                                                 | No                                                                                    | https://www.airbnb.com/rooms/37609                                                    | https://a0.muscache.com/im/pictures/67162e4f-98cc-4087-9d1a-d03f421512e1.jpg          | 44.07781                                                                              | -123.0899                                                                             | Eugene_Oregon                                                                         | \n",
       "| 1086 | 87035                                                                                 | 105888                                                                                | Quiet Suite in South Eugene Home                                                      | Guest suite                                                                           | Private room                                                                          | 2011-04-01                                                                            | 2017-05-31                                                                            | United States                                                                         | Oregon                                                                                | Eugene                                                                                | ⋯                                                                                     | 122                                                                                   | 78                                                                                    | 26                                                                                    | False                                                                                 | No                                                                                    | https://www.airbnb.com/rooms/87035                                                    | https://a0.muscache.com/im/pictures/1816567/b5c170a5_original.jpg?aki_policy=x_large  | 44.01144                                                                              | -123.0795                                                                             | Eugene_Oregon                                                                         | \n",
       "| 2922 | 49056                                                                                 | 223619                                                                                | Fabulous Views. Unique. Close to UO.                                                  | House                                                                                 | Entire home/apt                                                                       | 2010-09-05                                                                            | 2017-06-01                                                                            | United States                                                                         | Oregon                                                                                | Eugene                                                                                | ⋯                                                                                     |  76                                                                                   |  2                                                                                    | 67                                                                                    | False                                                                                 | No                                                                                    | https://www.airbnb.com/rooms/49056                                                    | https://a0.muscache.com/im/pictures/20004102/d97d6aba_original.jpg?aki_policy=x_large | 44.04468                                                                              | -123.0555                                                                             | Eugene_Oregon                                                                         | \n",
       "| 3457 | 27219                                                                                 |  68654                                                                                | Eugene Get-Away (Garden Room)                                                         | House                                                                                 | Private room                                                                          | 2017-03-16                                                                            | 2017-06-01                                                                            | United States                                                                         | Oregon                                                                                | Eugene                                                                                | ⋯                                                                                     |   0                                                                                   | 13                                                                                    | 23                                                                                    | False                                                                                 | No                                                                                    | https://www.airbnb.com/rooms/27219                                                    | https://a0.muscache.com/im/pictures/1831641/76f9c73f_original.jpg?aki_policy=x_large  | 44.00631                                                                              | -123.1984                                                                             | Eugene_Oregon                                                                         | \n",
       "| 3598 | 40218                                                                                 | 169866                                                                                | Downtown Bungalow                                                                     | House                                                                                 | Private room                                                                          | 2010-07-18                                                                            | 2017-05-31                                                                            | United States                                                                         | Oregon                                                                                | Eugene                                                                                | ⋯                                                                                     | 218                                                                                   | 18                                                                                    | 15                                                                                    | False                                                                                 | No                                                                                    | https://www.airbnb.com/rooms/40218                                                    | https://a0.muscache.com/im/pictures/3102298/054c7636_original.jpg?aki_policy=x_large  | 44.04887                                                                              | -123.1062                                                                             | Eugene_Oregon                                                                         | \n",
       "\n",
       "\n"
      ],
      "text/plain": [
       "     Property.ID Host.ID Listing.Title                        Property.Type\n",
       "1    87601        68654  Eugene Get-Away (Sun Room)           House        \n",
       "563  37609       161959  Feels like a forest cabin!           Bungalow     \n",
       "1086 87035       105888  Quiet Suite in South Eugene Home     Guest suite  \n",
       "2922 49056       223619  Fabulous Views. Unique. Close to UO. House        \n",
       "3457 27219        68654  Eugene Get-Away (Garden Room)        House        \n",
       "3598 40218       169866  Downtown Bungalow                    House        \n",
       "     Listing.Type    Created.Date Last.Scraped.Date Country       State  City  \n",
       "1    Private room    2017-03-16   2017-05-31        United States Oregon Eugene\n",
       "563  Entire home/apt 2010-07-06   2017-03-25        United States Oregon Eugene\n",
       "1086 Private room    2011-04-01   2017-05-31        United States Oregon Eugene\n",
       "2922 Entire home/apt 2010-09-05   2017-06-01        United States Oregon Eugene\n",
       "3457 Private room    2017-03-16   2017-06-01        United States Oregon Eugene\n",
       "3598 Private room    2010-07-18   2017-05-31        United States Oregon Eugene\n",
       "     ⋯ Count.Available.Days.LTM Count.Blocked.Days.LTM Number.of.Photos\n",
       "1    ⋯   0                      13                     13              \n",
       "563  ⋯  45                      13                      6              \n",
       "1086 ⋯ 122                      78                     26              \n",
       "2922 ⋯  76                       2                     67              \n",
       "3457 ⋯   0                      13                     23              \n",
       "3598 ⋯ 218                      18                     15              \n",
       "     Business.Ready Instantbook.Enabled Listing.URL                       \n",
       "1    False          No                  https://www.airbnb.com/rooms/87601\n",
       "563  False          No                  https://www.airbnb.com/rooms/37609\n",
       "1086 False          No                  https://www.airbnb.com/rooms/87035\n",
       "2922 False          No                  https://www.airbnb.com/rooms/49056\n",
       "3457 False          No                  https://www.airbnb.com/rooms/27219\n",
       "3598 False          No                  https://www.airbnb.com/rooms/40218\n",
       "     Listing.Main.Image.URL                                                               \n",
       "1    https://a0.muscache.com/im/pictures/1868780/1bdccf9f_original.jpg?aki_policy=x_large \n",
       "563  https://a0.muscache.com/im/pictures/67162e4f-98cc-4087-9d1a-d03f421512e1.jpg         \n",
       "1086 https://a0.muscache.com/im/pictures/1816567/b5c170a5_original.jpg?aki_policy=x_large \n",
       "2922 https://a0.muscache.com/im/pictures/20004102/d97d6aba_original.jpg?aki_policy=x_large\n",
       "3457 https://a0.muscache.com/im/pictures/1831641/76f9c73f_original.jpg?aki_policy=x_large \n",
       "3598 https://a0.muscache.com/im/pictures/3102298/054c7636_original.jpg?aki_policy=x_large \n",
       "     Latitude Longitude City_State   \n",
       "1    44.00863 -123.1960 Eugene_Oregon\n",
       "563  44.07781 -123.0899 Eugene_Oregon\n",
       "1086 44.01144 -123.0795 Eugene_Oregon\n",
       "2922 44.04468 -123.0555 Eugene_Oregon\n",
       "3457 44.00631 -123.1984 Eugene_Oregon\n",
       "3598 44.04887 -123.1062 Eugene_Oregon"
      ]
     },
     "metadata": {},
     "output_type": "display_data"
    }
   ],
   "source": [
    "## Choose market\n",
    "TH_P <- subset(US_P, City_State==y)\n",
    "head(TH_P)"
   ]
  },
  {
   "cell_type": "code",
   "execution_count": 35,
   "metadata": {},
   "outputs": [
    {
     "data": {
      "text/html": [
       "<table>\n",
       "<thead><tr><th></th><th scope=col>Property.ID</th><th scope=col>Date</th><th scope=col>Status</th><th scope=col>Price</th><th scope=col>Booked.Date</th><th scope=col>Reservation.ID</th></tr></thead>\n",
       "<tbody>\n",
       "\t<tr><th scope=row>1455810</th><td>27219     </td><td>2017-03-01</td><td>B         </td><td>70        </td><td>          </td><td>NA        </td></tr>\n",
       "\t<tr><th scope=row>1455811</th><td>27219     </td><td>2017-03-02</td><td>B         </td><td>70        </td><td>          </td><td>NA        </td></tr>\n",
       "\t<tr><th scope=row>1455812</th><td>27219     </td><td>2017-03-03</td><td>B         </td><td>70        </td><td>          </td><td>NA        </td></tr>\n",
       "\t<tr><th scope=row>1455813</th><td>27219     </td><td>2017-03-04</td><td>B         </td><td>70        </td><td>          </td><td>NA        </td></tr>\n",
       "\t<tr><th scope=row>1455814</th><td>27219     </td><td>2017-03-05</td><td>B         </td><td>70        </td><td>          </td><td>NA        </td></tr>\n",
       "\t<tr><th scope=row>1455815</th><td>27219     </td><td>2017-03-06</td><td>B         </td><td>70        </td><td>          </td><td>NA        </td></tr>\n",
       "</tbody>\n",
       "</table>\n"
      ],
      "text/latex": [
       "\\begin{tabular}{r|llllll}\n",
       "  & Property.ID & Date & Status & Price & Booked.Date & Reservation.ID\\\\\n",
       "\\hline\n",
       "\t1455810 & 27219      & 2017-03-01 & B          & 70         &            & NA        \\\\\n",
       "\t1455811 & 27219      & 2017-03-02 & B          & 70         &            & NA        \\\\\n",
       "\t1455812 & 27219      & 2017-03-03 & B          & 70         &            & NA        \\\\\n",
       "\t1455813 & 27219      & 2017-03-04 & B          & 70         &            & NA        \\\\\n",
       "\t1455814 & 27219      & 2017-03-05 & B          & 70         &            & NA        \\\\\n",
       "\t1455815 & 27219      & 2017-03-06 & B          & 70         &            & NA        \\\\\n",
       "\\end{tabular}\n"
      ],
      "text/markdown": [
       "\n",
       "| <!--/--> | Property.ID | Date | Status | Price | Booked.Date | Reservation.ID | \n",
       "|---|---|---|---|---|---|\n",
       "| 1455810 | 27219      | 2017-03-01 | B          | 70         |            | NA         | \n",
       "| 1455811 | 27219      | 2017-03-02 | B          | 70         |            | NA         | \n",
       "| 1455812 | 27219      | 2017-03-03 | B          | 70         |            | NA         | \n",
       "| 1455813 | 27219      | 2017-03-04 | B          | 70         |            | NA         | \n",
       "| 1455814 | 27219      | 2017-03-05 | B          | 70         |            | NA         | \n",
       "| 1455815 | 27219      | 2017-03-06 | B          | 70         |            | NA         | \n",
       "\n",
       "\n"
      ],
      "text/plain": [
       "        Property.ID Date       Status Price Booked.Date Reservation.ID\n",
       "1455810 27219       2017-03-01 B      70                NA            \n",
       "1455811 27219       2017-03-02 B      70                NA            \n",
       "1455812 27219       2017-03-03 B      70                NA            \n",
       "1455813 27219       2017-03-04 B      70                NA            \n",
       "1455814 27219       2017-03-05 B      70                NA            \n",
       "1455815 27219       2017-03-06 B      70                NA            "
      ]
     },
     "metadata": {},
     "output_type": "display_data"
    }
   ],
   "source": [
    "## Subset Daily Data by Market\n",
    "TH_ID <- as.vector(TH_P$Property.ID)\n",
    "TH_D <- US_D[which(US_D$Property.ID %in% TH_ID),]\n",
    "head(TH_D)"
   ]
  },
  {
   "cell_type": "code",
   "execution_count": 36,
   "metadata": {},
   "outputs": [
    {
     "name": "stdout",
     "output_type": "stream",
     "text": [
      "[1] \"final form of TH_D\"\n"
     ]
    },
    {
     "data": {
      "text/html": [
       "<table>\n",
       "<thead><tr><th></th><th scope=col>Property.ID</th><th scope=col>Date</th><th scope=col>Status</th><th scope=col>Price</th><th scope=col>Booked.Date</th><th scope=col>Reservation.ID</th><th scope=col>date</th><th scope=col>datepos</th></tr></thead>\n",
       "<tbody>\n",
       "\t<tr><th scope=row>1455810</th><td>27219     </td><td>2017-03-01</td><td>B         </td><td>70        </td><td>          </td><td>NA        </td><td>2017-03-01</td><td>2017-03-01</td></tr>\n",
       "\t<tr><th scope=row>1455811</th><td>27219     </td><td>2017-03-02</td><td>B         </td><td>70        </td><td>          </td><td>NA        </td><td>2017-03-02</td><td>2017-03-02</td></tr>\n",
       "\t<tr><th scope=row>1455812</th><td>27219     </td><td>2017-03-03</td><td>B         </td><td>70        </td><td>          </td><td>NA        </td><td>2017-03-03</td><td>2017-03-03</td></tr>\n",
       "\t<tr><th scope=row>1455813</th><td>27219     </td><td>2017-03-04</td><td>B         </td><td>70        </td><td>          </td><td>NA        </td><td>2017-03-04</td><td>2017-03-04</td></tr>\n",
       "\t<tr><th scope=row>1455814</th><td>27219     </td><td>2017-03-05</td><td>B         </td><td>70        </td><td>          </td><td>NA        </td><td>2017-03-05</td><td>2017-03-05</td></tr>\n",
       "\t<tr><th scope=row>1455815</th><td>27219     </td><td>2017-03-06</td><td>B         </td><td>70        </td><td>          </td><td>NA        </td><td>2017-03-06</td><td>2017-03-06</td></tr>\n",
       "</tbody>\n",
       "</table>\n"
      ],
      "text/latex": [
       "\\begin{tabular}{r|llllllll}\n",
       "  & Property.ID & Date & Status & Price & Booked.Date & Reservation.ID & date & datepos\\\\\n",
       "\\hline\n",
       "\t1455810 & 27219      & 2017-03-01 & B          & 70         &            & NA         & 2017-03-01 & 2017-03-01\\\\\n",
       "\t1455811 & 27219      & 2017-03-02 & B          & 70         &            & NA         & 2017-03-02 & 2017-03-02\\\\\n",
       "\t1455812 & 27219      & 2017-03-03 & B          & 70         &            & NA         & 2017-03-03 & 2017-03-03\\\\\n",
       "\t1455813 & 27219      & 2017-03-04 & B          & 70         &            & NA         & 2017-03-04 & 2017-03-04\\\\\n",
       "\t1455814 & 27219      & 2017-03-05 & B          & 70         &            & NA         & 2017-03-05 & 2017-03-05\\\\\n",
       "\t1455815 & 27219      & 2017-03-06 & B          & 70         &            & NA         & 2017-03-06 & 2017-03-06\\\\\n",
       "\\end{tabular}\n"
      ],
      "text/markdown": [
       "\n",
       "| <!--/--> | Property.ID | Date | Status | Price | Booked.Date | Reservation.ID | date | datepos | \n",
       "|---|---|---|---|---|---|\n",
       "| 1455810 | 27219      | 2017-03-01 | B          | 70         |            | NA         | 2017-03-01 | 2017-03-01 | \n",
       "| 1455811 | 27219      | 2017-03-02 | B          | 70         |            | NA         | 2017-03-02 | 2017-03-02 | \n",
       "| 1455812 | 27219      | 2017-03-03 | B          | 70         |            | NA         | 2017-03-03 | 2017-03-03 | \n",
       "| 1455813 | 27219      | 2017-03-04 | B          | 70         |            | NA         | 2017-03-04 | 2017-03-04 | \n",
       "| 1455814 | 27219      | 2017-03-05 | B          | 70         |            | NA         | 2017-03-05 | 2017-03-05 | \n",
       "| 1455815 | 27219      | 2017-03-06 | B          | 70         |            | NA         | 2017-03-06 | 2017-03-06 | \n",
       "\n",
       "\n"
      ],
      "text/plain": [
       "        Property.ID Date       Status Price Booked.Date Reservation.ID\n",
       "1455810 27219       2017-03-01 B      70                NA            \n",
       "1455811 27219       2017-03-02 B      70                NA            \n",
       "1455812 27219       2017-03-03 B      70                NA            \n",
       "1455813 27219       2017-03-04 B      70                NA            \n",
       "1455814 27219       2017-03-05 B      70                NA            \n",
       "1455815 27219       2017-03-06 B      70                NA            \n",
       "        date       datepos   \n",
       "1455810 2017-03-01 2017-03-01\n",
       "1455811 2017-03-02 2017-03-02\n",
       "1455812 2017-03-03 2017-03-03\n",
       "1455813 2017-03-04 2017-03-04\n",
       "1455814 2017-03-05 2017-03-05\n",
       "1455815 2017-03-06 2017-03-06"
      ]
     },
     "metadata": {},
     "output_type": "display_data"
    }
   ],
   "source": [
    "# Define Market Characteristics\n",
    "City <- TH_P$City[1]\n",
    "State <- TH_P$State[1]\n",
    "\n",
    "## Modify date format\n",
    "TH_D$date <- as.Date(as.character(TH_D$Date), format=\"%Y-%m-%d\")\n",
    "TH_D$datepos <- as.POSIXlt(TH_D$date)\n",
    "print(\"final form of TH_D\")\n",
    "head(TH_D)"
   ]
  },
  {
   "cell_type": "code",
   "execution_count": 37,
   "metadata": {},
   "outputs": [
    {
     "data": {
      "text/html": [
       "<table>\n",
       "<thead><tr><th scope=col>date</th><th scope=col>PotentialRevenue</th><th scope=col>Revenue</th><th scope=col>RevenueFraction</th><th scope=col>City</th><th scope=col>State</th></tr></thead>\n",
       "<tbody>\n",
       "\t<tr><td>2014-08-01</td><td>13206     </td><td>6838      </td><td>0.5177949 </td><td>Eugene    </td><td>Oregon    </td></tr>\n",
       "\t<tr><td>2014-08-02</td><td>13297     </td><td>5743      </td><td>0.4319019 </td><td>Eugene    </td><td>Oregon    </td></tr>\n",
       "\t<tr><td>2014-08-03</td><td>13903     </td><td>4281      </td><td>0.3079192 </td><td>Eugene    </td><td>Oregon    </td></tr>\n",
       "\t<tr><td>2014-08-04</td><td>14528     </td><td>4604      </td><td>0.3169053 </td><td>Eugene    </td><td>Oregon    </td></tr>\n",
       "\t<tr><td>2014-08-05</td><td>14570     </td><td>4381      </td><td>0.3006863 </td><td>Eugene    </td><td>Oregon    </td></tr>\n",
       "\t<tr><td>2014-08-06</td><td>14292     </td><td>4793      </td><td>0.3353624 </td><td>Eugene    </td><td>Oregon    </td></tr>\n",
       "</tbody>\n",
       "</table>\n"
      ],
      "text/latex": [
       "\\begin{tabular}{r|llllll}\n",
       " date & PotentialRevenue & Revenue & RevenueFraction & City & State\\\\\n",
       "\\hline\n",
       "\t 2014-08-01 & 13206      & 6838       & 0.5177949  & Eugene     & Oregon    \\\\\n",
       "\t 2014-08-02 & 13297      & 5743       & 0.4319019  & Eugene     & Oregon    \\\\\n",
       "\t 2014-08-03 & 13903      & 4281       & 0.3079192  & Eugene     & Oregon    \\\\\n",
       "\t 2014-08-04 & 14528      & 4604       & 0.3169053  & Eugene     & Oregon    \\\\\n",
       "\t 2014-08-05 & 14570      & 4381       & 0.3006863  & Eugene     & Oregon    \\\\\n",
       "\t 2014-08-06 & 14292      & 4793       & 0.3353624  & Eugene     & Oregon    \\\\\n",
       "\\end{tabular}\n"
      ],
      "text/markdown": [
       "\n",
       "date | PotentialRevenue | Revenue | RevenueFraction | City | State | \n",
       "|---|---|---|---|---|---|\n",
       "| 2014-08-01 | 13206      | 6838       | 0.5177949  | Eugene     | Oregon     | \n",
       "| 2014-08-02 | 13297      | 5743       | 0.4319019  | Eugene     | Oregon     | \n",
       "| 2014-08-03 | 13903      | 4281       | 0.3079192  | Eugene     | Oregon     | \n",
       "| 2014-08-04 | 14528      | 4604       | 0.3169053  | Eugene     | Oregon     | \n",
       "| 2014-08-05 | 14570      | 4381       | 0.3006863  | Eugene     | Oregon     | \n",
       "| 2014-08-06 | 14292      | 4793       | 0.3353624  | Eugene     | Oregon     | \n",
       "\n",
       "\n"
      ],
      "text/plain": [
       "  date       PotentialRevenue Revenue RevenueFraction City   State \n",
       "1 2014-08-01 13206            6838    0.5177949       Eugene Oregon\n",
       "2 2014-08-02 13297            5743    0.4319019       Eugene Oregon\n",
       "3 2014-08-03 13903            4281    0.3079192       Eugene Oregon\n",
       "4 2014-08-04 14528            4604    0.3169053       Eugene Oregon\n",
       "5 2014-08-05 14570            4381    0.3006863       Eugene Oregon\n",
       "6 2014-08-06 14292            4793    0.3353624       Eugene Oregon"
      ]
     },
     "metadata": {},
     "output_type": "display_data"
    }
   ],
   "source": [
    "## Compute Property Level Potential Revenue\n",
    "TH_D$PotentialRevenue <- 0\n",
    "TH_D$PotentialRevenue[which(TH_D$Status==\"A\" | TH_D$Status==\"R\")] <- TH_D$Price[which(TH_D$Status==\"A\" | TH_D$Status==\"R\")]\n",
    "\n",
    "## Compute Property Level Revenue\n",
    "TH_D$Revenue <- 0\n",
    "TH_D$Revenue[which(TH_D$Status==\"R\")] <- TH_D$Price[which(TH_D$Status==\"R\")]\n",
    "\n",
    "## Compute Market Level Potential Revenue\n",
    "PotentialRevenue <- aggregate(PotentialRevenue ~ date, data=TH_D, FUN=sum, na.rm=TRUE)\n",
    "\n",
    "## Compute Market Level Revenue\n",
    "Revenue <- aggregate(Revenue ~ date, data=TH_D, FUN=sum, na.rm=TRUE)\n",
    "\n",
    "## Merge Revenue Data\n",
    "TH_Daily <- merge(PotentialRevenue,Revenue, by = c(\"date\"))\n",
    "TH_Daily$RevenueFraction <- as.numeric(TH_Daily$Revenue/TH_Daily$PotentialRevenue)\n",
    "TH_Daily$City <- City\n",
    "TH_Daily$State <- State\n",
    "\n",
    "head(TH_Daily)"
   ]
  },
  {
   "cell_type": "code",
   "execution_count": null,
   "metadata": {
    "collapsed": true
   },
   "outputs": [],
   "source": [
    "## SaveRDS\n",
    "data_name = paste(\"output/\", y, \".rds\", sep=\"\")  \n",
    "saveRDS(TH_Daily, data_name)"
   ]
  },
  {
   "cell_type": "code",
   "execution_count": null,
   "metadata": {
    "collapsed": true
   },
   "outputs": [],
   "source": [
    "# Plot Potential and Actual Revenue by Date\n",
    "ggplot() +\n",
    "geom_line(aes(TH_Daily$date, TH_Daily$PotentialRevenue), colour='black') +\n",
    "geom_line(aes(TH_Daily$date, TH_Daily$Revenue), colour='red')\n",
    "\n",
    "# print file\n",
    "graph_name = paste(\"output/Revenue_\", y, \".png\", sep=\"\")\n",
    "ggsave(graph_name, width = 8, height = 5)"
   ]
  },
  {
   "cell_type": "code",
   "execution_count": 39,
   "metadata": {},
   "outputs": [
    {
     "name": "stderr",
     "output_type": "stream",
     "text": [
      "Loading required package: doParallel\n",
      "Loading required package: iterators\n",
      "Loading required package: parallel\n"
     ]
    },
    {
     "data": {
      "text/html": [
       "<ol>\n",
       "\t<li>NULL</li>\n",
       "\t<li>NULL</li>\n",
       "</ol>\n"
      ],
      "text/latex": [
       "\\begin{enumerate}\n",
       "\\item NULL\n",
       "\\item NULL\n",
       "\\end{enumerate}\n"
      ],
      "text/markdown": [
       "1. NULL\n",
       "2. NULL\n",
       "\n",
       "\n"
      ],
      "text/plain": [
       "[[1]]\n",
       "NULL\n",
       "\n",
       "[[2]]\n",
       "NULL\n"
      ]
     },
     "metadata": {},
     "output_type": "display_data"
    }
   ],
   "source": [
    "## This function will check if a package is installed, and if not, install it\n",
    "pkgTest <- function(x) {\n",
    "  if (!require(x, character.only = TRUE))\n",
    "  {\n",
    "    install.packages(x, dep = TRUE)\n",
    "    if(!require(x, character.only = TRUE)) stop(\"Package not found\")\n",
    "  }\n",
    "}\n",
    "\n",
    "## These lines load the required packages using 'pkgTest' function\n",
    "packages <- c(\"foreach\", \"doParallel\")\n",
    "lapply(packages, pkgTest)"
   ]
  },
  {
   "cell_type": "markdown",
   "metadata": {},
   "source": [
    "## Step 3.1: Creating the parallel function\n",
    "\n",
    "Creating the function that can be used in the \"foreach\" parallel syntax will be important."
   ]
  },
  {
   "cell_type": "code",
   "execution_count": 40,
   "metadata": {
    "collapsed": true
   },
   "outputs": [],
   "source": [
    "findModel <- function(y, US_P, US_D){  \n",
    "\n",
    "  print(paste0(y, \" beginning\"))\n",
    "\n",
    "  ## Choose market\n",
    "  TH_P <- subset(US_P, City_State==y)\n",
    "  \n",
    "  ## Subset Daily Data by Market\n",
    "  TH_ID <- as.vector(TH_P$Property.ID)\n",
    "  TH_D <- US_D[which(US_D$Property.ID %in% TH_ID),]\n",
    "  \n",
    "  if(nrow(TH_D) == 0){\n",
    "    print(paste0(y,\" had 0 terms\"))\n",
    "  } else {\n",
    "\n",
    "  # Define Market Characteristics\n",
    "  City <- TH_P$City[1]\n",
    "  State <- TH_P$State[1]\n",
    "  \n",
    "  ## Modify date format\n",
    "  TH_D$date <- as.Date(as.character(TH_D$Date), format=\"%Y-%m-%d\")\n",
    "  TH_D$datepos <- as.POSIXlt(TH_D$date)\n",
    "  \n",
    "  ## Compute Property Level Potential Revenue\n",
    "  TH_D$PotentialRevenue <- 0\n",
    "  TH_D$PotentialRevenue[which(TH_D$Status==\"A\" | TH_D$Status==\"R\")] <- TH_D$Price[which(TH_D$Status==\"A\" | TH_D$Status==\"R\")]\n",
    "  \n",
    "  ## Compute Property Level Revenue\n",
    "  TH_D$Revenue <- 0\n",
    "  TH_D$Revenue[which(TH_D$Status==\"R\")] <- TH_D$Price[which(TH_D$Status==\"R\")]\n",
    "  \n",
    "  ## Compute Market Level Potential Revenue\n",
    "  PotentialRevenue <- aggregate(PotentialRevenue ~ date, data=TH_D, FUN=sum, na.rm=TRUE)\n",
    "  \n",
    "  ## Compute Market Level Revenue\n",
    "  Revenue <- aggregate(Revenue ~ date, data=TH_D, FUN=sum, na.rm=TRUE)\n",
    "  \n",
    "  ## Merge Revenue Data\n",
    "  TH_Daily <- merge(PotentialRevenue,Revenue, by = c(\"date\"))\n",
    "  TH_Daily$RevenueFraction <- as.numeric(TH_Daily$Revenue/TH_Daily$PotentialRevenue)\n",
    "  TH_Daily$City <- City\n",
    "  TH_Daily$State <- State\n",
    "  \n",
    "  ## SaveRDS\n",
    "  data_name = paste(\"output/\", y, \".rds\", sep=\"\")\n",
    "  saveRDS(TH_Daily, data_name)\n",
    "  \n",
    "  # Plot Potential and Actual Revenue by Date\n",
    "  ggplot() +\n",
    "    geom_line(aes(TH_Daily$date, TH_Daily$PotentialRevenue), colour='black') +\n",
    "    geom_line(aes(TH_Daily$date, TH_Daily$Revenue), colour='red')\n",
    "  \n",
    "  # print file\n",
    "  graph_name = paste(\"output/Revenue_\", y, \".png\", sep=\"\")\n",
    "  ggsave(graph_name, width = 8, height = 5)\n",
    "  }\n",
    "  # print finished city\n",
    "  print(y)\n",
    "\n",
    "}"
   ]
  },
  {
   "cell_type": "markdown",
   "metadata": {},
   "source": [
    "## Step 3.2: Running the foreach parallelization"
   ]
  },
  {
   "cell_type": "code",
   "execution_count": 43,
   "metadata": {},
   "outputs": [
    {
     "data": {
      "text/html": [
       "40"
      ],
      "text/latex": [
       "40"
      ],
      "text/markdown": [
       "40"
      ],
      "text/plain": [
       "[1] 40"
      ]
     },
     "metadata": {},
     "output_type": "display_data"
    }
   ],
   "source": [
    "np <- detectCores()\n",
    "np"
   ]
  },
  {
   "cell_type": "code",
   "execution_count": 44,
   "metadata": {
    "collapsed": true
   },
   "outputs": [],
   "source": [
    "## setting number of cores to 4 for testing purpose, on real run, you will need to use (np-1) number of cores\n",
    "num_cores <- 4 \n",
    "\n",
    "## making this many copy of work\n",
    "cl <- makeForkCluster(num_cores)\n",
    "\n",
    "## register this many number of cores\n",
    "registerDoParallel(cores=(num_cores))"
   ]
  },
  {
   "cell_type": "code",
   "execution_count": 45,
   "metadata": {
    "collapsed": true
   },
   "outputs": [],
   "source": [
    "## import the number of cores\n",
    "clusterExport(cl, c())"
   ]
  },
  {
   "cell_type": "code",
   "execution_count": 46,
   "metadata": {},
   "outputs": [
    {
     "data": {
      "text/html": [
       "<ol class=list-inline>\n",
       "\t<li>'Eugene_Oregon'</li>\n",
       "\t<li>'Palm Desert_California'</li>\n",
       "\t<li>'Verona_Wisconsin'</li>\n",
       "\t<li>'Chicago_Illinois'</li>\n",
       "\t<li>'Southbridge_Massachusetts'</li>\n",
       "</ol>\n"
      ],
      "text/latex": [
       "\\begin{enumerate*}\n",
       "\\item 'Eugene\\_Oregon'\n",
       "\\item 'Palm Desert\\_California'\n",
       "\\item 'Verona\\_Wisconsin'\n",
       "\\item 'Chicago\\_Illinois'\n",
       "\\item 'Southbridge\\_Massachusetts'\n",
       "\\end{enumerate*}\n"
      ],
      "text/markdown": [
       "1. 'Eugene_Oregon'\n",
       "2. 'Palm Desert_California'\n",
       "3. 'Verona_Wisconsin'\n",
       "4. 'Chicago_Illinois'\n",
       "5. 'Southbridge_Massachusetts'\n",
       "\n",
       "\n"
      ],
      "text/plain": [
       "[1] \"Eugene_Oregon\"             \"Palm Desert_California\"   \n",
       "[3] \"Verona_Wisconsin\"          \"Chicago_Illinois\"         \n",
       "[5] \"Southbridge_Massachusetts\""
      ]
     },
     "metadata": {},
     "output_type": "display_data"
    },
    {
     "data": {
      "text/plain": [
       "[1] \"2017-07-11 20:01:10 UTC\""
      ]
     },
     "metadata": {},
     "output_type": "display_data"
    },
    {
     "name": "stdout",
     "output_type": "stream",
     "text": [
      "[1] \"ended parallel\"\n"
     ]
    }
   ],
   "source": [
    "## show the starting time\n",
    "Sys.time()\n",
    "print(\"starting parallel\")\n",
    "\n",
    "## running the foreach parallelization\n",
    "## NOTE: in the real run, we will be using Markets instead of only 5 markets in Markets1 variable.\n",
    "foreach(i=1:length(Markets1), .combine='c') %dopar% {\n",
    "  findModel(Markets1[i], US_P, US_D)\n",
    "}\n",
    "\n",
    "## end the parallelization\n",
    "stopCluster(cl)\n",
    "\n",
    "## show the ending time\n",
    "Sys.time()\n",
    "print(\"ended parallel\")"
   ]
  },
  {
   "cell_type": "markdown",
   "metadata": {
    "collapsed": true
   },
   "source": [
    "## Step 4: Submit job on Supercomputer\n",
    "\n",
    "The following code is using bash script instead of R Script.\n",
    "And it is based on using Roger Supercomputer"
   ]
  },
  {
   "cell_type": "raw",
   "metadata": {
    "collapsed": true
   },
   "source": [
    "### Set the job name\n",
    "#PBS -N Snow Project Trial 2\n",
    "\n",
    "### Use the bourne shell\n",
    "#PBS -S /bin/bash\n",
    "\n",
    "### To send email when the job is completed:\n",
    "### be --- before execution\n",
    "### ae --- after execution\n",
    "#PBS -m ae\n",
    "#PBS -M zhang303@illinois.edu\n",
    "\n",
    "### Optionally set the destination for your program's output\n",
    "### Specify localhost and an NFS filesystem to prevent file copy errors.\n",
    "#PBS -e localhost:/projects/hackonomics/snowproject/job_parallel.err\n",
    "#PBS -o localhost:/projects/hackonomics/snowproject/job_parallel.log\n",
    "\n",
    "### Specify the number of CPU cores for your job\n",
    "#PBS -l nodes=1:ppn=20\n",
    "\n",
    "### Tell PBS how much memory you expect to use. Use units of 'b','kb', 'mb' or 'gb'.\n",
    "#PBS -l mem=200gb\n",
    "\n",
    "### Tell PBS the anticipated run-time for your job, where walltime=HH:MM:SS\n",
    "### Your job will be terminated if it exceeds this time\n",
    "#PBS -l walltime=48:00:00\n",
    "\n",
    "### loading the module of R and gdal\n",
    "module load R\n",
    "\n",
    "Rscript /projects/hackonomics/snowproject/MarketRevenue_parallel.R"
   ]
  },
  {
   "cell_type": "markdown",
   "metadata": {},
   "source": [
    "### Question 1\n",
    "We have used \"foreach\" library to perform parallelization in this excerise, are there any other libraries can do the same thing? List at least 3 other different parallelization libraries."
   ]
  },
  {
   "cell_type": "markdown",
   "metadata": {},
   "source": [
    "### Question 2\n",
    "Pick one of the parallelization library and give it a try in this excerise by only using 4 cores."
   ]
  },
  {
   "cell_type": "code",
   "execution_count": null,
   "metadata": {
    "collapsed": true
   },
   "outputs": [],
   "source": [
    "## setting number of cores to 4 for testing purpose, on real run, you will need to use (np-1) number of cores\n",
    "num_cores <- 4 \n",
    "\n",
    "## TODO: You can use your googled example here or just use this excerise, but making sure you only use 4 cores at most!\n",
    "## You can learn how to write those from secion 3.2 in this excerise, the way of doing this should be similar."
   ]
  }
 ],
 "metadata": {
  "kernelspec": {
   "display_name": "R",
   "language": "R",
   "name": "ir"
  },
  "language_info": {
   "codemirror_mode": "r",
   "file_extension": ".r",
   "mimetype": "text/x-r-source",
   "name": "R",
   "pygments_lexer": "r",
   "version": "3.3.2"
  }
 },
 "nbformat": 4,
 "nbformat_minor": 2
}
