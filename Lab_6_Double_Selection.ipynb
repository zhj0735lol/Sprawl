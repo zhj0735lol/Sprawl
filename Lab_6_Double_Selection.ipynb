{
 "cells": [
  {
   "cell_type": "markdown",
   "metadata": {},
   "source": [
    "# Comparing OLS and Double Selection\n",
    "This material is originally developed for ACE 592 Big Data - Empirical Economics written on 7/21/2017 by Alex Stevens. \n",
    "\n",
    "### Motivation\n",
    "Researchers do not know the data generating process for the data they are analyzing. This exercise creates a nonlinear data generating process that is too complex for simple modelling to capture, then compares OLS and Double Selection estimation.\n",
    "\n",
    "### Objective:\n",
    "* Create Monte Carlo experiement\n",
    "* Compare distribution of coeffiecients estimated by OLS and Double Selection \n",
    "* Look at the effects of assumptions on these two models\n",
    "\n"
   ]
  },
  {
   "cell_type": "markdown",
   "metadata": {},
   "source": [
    "## Step 1: Install packages "
   ]
  },
  {
   "cell_type": "code",
   "execution_count": 1,
   "metadata": {
    "scrolled": true
   },
   "outputs": [
    {
     "name": "stderr",
     "output_type": "stream",
     "text": [
      "Loading required package: Hmisc\n",
      "Loading required package: lattice\n",
      "Loading required package: survival\n",
      "Loading required package: Formula\n",
      "Loading required package: ggplot2\n",
      "\n",
      "Attaching package: ‘Hmisc’\n",
      "\n",
      "The following objects are masked from ‘package:base’:\n",
      "\n",
      "    format.pval, round.POSIXt, trunc.POSIXt, units\n",
      "\n",
      "Loading required package: hdm\n",
      "Loading required package: mvtnorm\n"
     ]
    },
    {
     "data": {
      "text/html": [
       "<ol>\n",
       "\t<li>NULL</li>\n",
       "\t<li>NULL</li>\n",
       "\t<li>NULL</li>\n",
       "</ol>\n"
      ],
      "text/latex": [
       "\\begin{enumerate}\n",
       "\\item NULL\n",
       "\\item NULL\n",
       "\\item NULL\n",
       "\\end{enumerate}\n"
      ],
      "text/markdown": [
       "1. NULL\n",
       "2. NULL\n",
       "3. NULL\n",
       "\n",
       "\n"
      ],
      "text/plain": [
       "[[1]]\n",
       "NULL\n",
       "\n",
       "[[2]]\n",
       "NULL\n",
       "\n",
       "[[3]]\n",
       "NULL\n"
      ]
     },
     "metadata": {},
     "output_type": "display_data"
    }
   ],
   "source": [
    "rm(list=ls())\n",
    "## This function will check if a package is installed, and if not, install it\n",
    "pkgTest <- function(x) {\n",
    "  if (!require(x, character.only = TRUE))\n",
    "  {\n",
    "    install.packages(x, dep = TRUE)\n",
    "    if(!require(x, character.only = TRUE)) stop(\"Package not found\")\n",
    "  }\n",
    "}\n",
    "\n",
    "## These lines load the required packages\n",
    "packages <- c(\"Hmisc\", \"hdm\",\"mvtnorm\")\n",
    "lapply(packages, pkgTest)"
   ]
  },
  {
   "cell_type": "markdown",
   "metadata": {},
   "source": [
    "## Step 2: Create data\n"
   ]
  },
  {
   "cell_type": "markdown",
   "metadata": {},
   "source": [
    "Set seed for replication"
   ]
  },
  {
   "cell_type": "code",
   "execution_count": 2,
   "metadata": {
    "collapsed": true
   },
   "outputs": [],
   "source": [
    "set.seed(12345)"
   ]
  },
  {
   "cell_type": "markdown",
   "metadata": {},
   "source": [
    "Set sample size"
   ]
  },
  {
   "cell_type": "code",
   "execution_count": 3,
   "metadata": {
    "collapsed": true
   },
   "outputs": [],
   "source": [
    "N <- 200"
   ]
  },
  {
   "cell_type": "markdown",
   "metadata": {},
   "source": [
    "Set number of simulations"
   ]
  },
  {
   "cell_type": "code",
   "execution_count": 4,
   "metadata": {
    "collapsed": true
   },
   "outputs": [],
   "source": [
    "n.sims <- 40"
   ]
  },
  {
   "cell_type": "markdown",
   "metadata": {},
   "source": [
    "Create matrix of 200 random normally distributed variables"
   ]
  },
  {
   "cell_type": "code",
   "execution_count": 5,
   "metadata": {
    "collapsed": true
   },
   "outputs": [],
   "source": [
    "x <- matrix(runif(N*50), nrow = N, ncol = 50)"
   ]
  },
  {
   "cell_type": "markdown",
   "metadata": {},
   "source": [
    "Create polynomials"
   ]
  },
  {
   "cell_type": "code",
   "execution_count": 6,
   "metadata": {
    "collapsed": true
   },
   "outputs": [],
   "source": [
    "polyx<-cbind(x^2,x^3)"
   ]
  },
  {
   "cell_type": "markdown",
   "metadata": {},
   "source": [
    "Create 5 bins for first 40 variables"
   ]
  },
  {
   "cell_type": "code",
   "execution_count": 7,
   "metadata": {
    "collapsed": true
   },
   "outputs": [],
   "source": [
    "nvar<-10\n",
    "quants<-5\n",
    "dumx<-matrix(nrow=N,ncol=quants*nvar)\n",
    "  for(i in 1:nvar){\n",
    "    indx<- factor(as.numeric(cut2(x[,i], g=quants)))\n",
    "    dumx[,((quants*i)-(quants-1)):(quants*i)]<-model.matrix(~indx-1)\n",
    "  }"
   ]
  },
  {
   "cell_type": "markdown",
   "metadata": {},
   "source": [
    "Create treatment variable where half of the observations are treatment have are control"
   ]
  },
  {
   "cell_type": "code",
   "execution_count": 8,
   "metadata": {
    "collapsed": true
   },
   "outputs": [],
   "source": [
    " Treatment<-sample(rep(0:1,N/2))"
   ]
  },
  {
   "cell_type": "markdown",
   "metadata": {},
   "source": [
    "Create true y. Note:\n",
    "* True effect of Treatment on y is 1\n",
    "* Most x variables have no effect on y\n",
    "* Some x variables have nonlinear effects on y"
   ]
  },
  {
   "cell_type": "code",
   "execution_count": 9,
   "metadata": {
    "collapsed": true
   },
   "outputs": [],
   "source": [
    "  y <- Treatment+x[,1] * 2+ x[,2] * 2.5 + 600*x[,3]-20*x[,3]^2-20*x[,3]^3+\n",
    "                #3*exp(x[,4]+x[,10])+2*log(x[,6]+x[,10]+100)+ \n",
    "                600*x[,7]^2+30*x[,8]^2- 20*x[,8]^3+\n",
    "                300*dumx[,(quants*5)]+90*dumx[,(quants*5)+1]+30*dumx[,(quants*5)+2]+\n",
    "                100*dumx[,(quants*8)+1]+50*dumx[,(quants*8)+2]+70*dumx[,(quants*8)+3]+\n",
    "                10*dumx[,(quants*9)]+60*dumx[,(quants*9)+3]-6*dumx[,(quants*9)+5]+\n",
    "                rnorm(N)"
   ]
  },
  {
   "cell_type": "markdown",
   "metadata": {},
   "source": [
    "## Step 3: Analyze Data"
   ]
  },
  {
   "cell_type": "markdown",
   "metadata": {},
   "source": [
    "Estimate naive OLS model using only x variables and summarize"
   ]
  },
  {
   "cell_type": "code",
   "execution_count": 10,
   "metadata": {},
   "outputs": [
    {
     "data": {
      "text/plain": [
       "\n",
       "Call:\n",
       "lm(formula = y ~ Treatment + x)\n",
       "\n",
       "Residuals:\n",
       "    Min      1Q  Median      3Q     Max \n",
       "-169.30  -66.12   -6.44   63.16  268.80 \n",
       "\n",
       "Coefficients:\n",
       "            Estimate Std. Error t value Pr(>|t|)    \n",
       "(Intercept) -20.1101   109.9866  -0.183  0.85517    \n",
       "Treatment     5.7128    16.8246   0.340  0.73468    \n",
       "x1          -17.7822    28.3776  -0.627  0.53187    \n",
       "x2           14.4849    28.5180   0.508  0.61227    \n",
       "x3          598.3622    29.7448  20.117  < 2e-16 ***\n",
       "x4            2.3085    27.7425   0.083  0.93379    \n",
       "x5          319.1051    32.0652   9.952  < 2e-16 ***\n",
       "x6          -78.6869    29.6003  -2.658  0.00872 ** \n",
       "x7          551.8391    27.7209  19.907  < 2e-16 ***\n",
       "x8          -20.2293    28.6492  -0.706  0.48123    \n",
       "x9          -73.2834    30.9538  -2.368  0.01920 *  \n",
       "x10          12.0677    29.7788   0.405  0.68588    \n",
       "x11          33.7327    29.5529   1.141  0.25553    \n",
       "x12         -57.7439    28.5444  -2.023  0.04488 *  \n",
       "x13          31.8338    29.3712   1.084  0.28020    \n",
       "x14         -28.1940    29.8865  -0.943  0.34703    \n",
       "x15          -5.7947    29.4568  -0.197  0.84432    \n",
       "x16         -31.2561    30.1052  -1.038  0.30086    \n",
       "x17          48.1457    30.2567   1.591  0.11369    \n",
       "x18         -24.6567    33.0402  -0.746  0.45669    \n",
       "x19          -9.0655    28.0506  -0.323  0.74701    \n",
       "x20          34.4954    28.1630   1.225  0.22258    \n",
       "x21          -2.0822    29.1441  -0.071  0.94314    \n",
       "x22         -22.2718    28.5447  -0.780  0.43649    \n",
       "x23          44.9106    28.4383   1.579  0.11642    \n",
       "x24          53.6633    32.7834   1.637  0.10377    \n",
       "x25          45.5128    29.6870   1.533  0.12739    \n",
       "x26         -30.8910    28.7923  -1.073  0.28507    \n",
       "x27         -40.0574    30.1574  -1.328  0.18613    \n",
       "x28          24.3848    29.2373   0.834  0.40561    \n",
       "x29          78.8583    30.8479   2.556  0.01158 *  \n",
       "x30         -66.0131    29.1077  -2.268  0.02478 *  \n",
       "x31         -11.6843    30.0005  -0.389  0.69749    \n",
       "x32          12.2324    27.7974   0.440  0.66054    \n",
       "x33         -42.1130    31.9774  -1.317  0.18989    \n",
       "x34         -22.1422    31.7923  -0.696  0.48723    \n",
       "x35           9.1405    29.5309   0.310  0.75736    \n",
       "x36          -9.8214    30.1355  -0.326  0.74495    \n",
       "x37         -22.0719    28.3218  -0.779  0.43703    \n",
       "x38          -1.6146    32.0590  -0.050  0.95990    \n",
       "x39         -39.9616    30.3812  -1.315  0.19043    \n",
       "x40          36.5294    28.6226   1.276  0.20387    \n",
       "x41           6.3749    30.2469   0.211  0.83336    \n",
       "x42          12.8232    29.6803   0.432  0.66634    \n",
       "x43          11.7029    29.3631   0.399  0.69079    \n",
       "x44           0.6665    28.7544   0.023  0.98154    \n",
       "x45         -23.3841    29.2899  -0.798  0.42594    \n",
       "x46          25.9082    27.2214   0.952  0.34277    \n",
       "x47         -24.9737    28.0868  -0.889  0.37536    \n",
       "x48          18.1204    30.5317   0.593  0.55376    \n",
       "x49          42.3034    28.4899   1.485  0.13971    \n",
       "x50         -29.5215    29.7169  -0.993  0.32212    \n",
       "---\n",
       "Signif. codes:  0 ‘***’ 0.001 ‘**’ 0.01 ‘*’ 0.05 ‘.’ 0.1 ‘ ’ 1\n",
       "\n",
       "Residual standard error: 102.8 on 148 degrees of freedom\n",
       "Multiple R-squared:  0.8783,\tAdjusted R-squared:  0.8363 \n",
       "F-statistic: 20.94 on 51 and 148 DF,  p-value: < 2.2e-16\n"
      ]
     },
     "metadata": {},
     "output_type": "display_data"
    }
   ],
   "source": [
    "fit.lm <- lm(y~Treatment+x)\n",
    "summary(fit.lm)"
   ]
  },
  {
   "cell_type": "markdown",
   "metadata": {},
   "source": [
    "Estimate naive Double Selection model using only x variables and summarize"
   ]
  },
  {
   "cell_type": "code",
   "execution_count": 11,
   "metadata": {},
   "outputs": [
    {
     "data": {
      "text/plain": [
       "[1] \"Estimates and significance testing of the effect of target variables\"\n",
       "   Estimate. Std. Error t value Pr(>|t|)\n",
       "d1     1.151     14.174   0.081    0.935\n",
       "\n"
      ]
     },
     "metadata": {},
     "output_type": "display_data"
    }
   ],
   "source": [
    "fit.ds <- rlassoEffect(x, y, Treatment, method = \"double selection\")\n",
    "summary(fit.ds)"
   ]
  },
  {
   "cell_type": "markdown",
   "metadata": {},
   "source": [
    "Now assume some x variables have polynomial effects on y and estimate OLS with x and polyx variables"
   ]
  },
  {
   "cell_type": "code",
   "execution_count": 12,
   "metadata": {},
   "outputs": [
    {
     "data": {
      "text/plain": [
       "\n",
       "Call:\n",
       "lm(formula = y ~ Treatment + x + polyx)\n",
       "\n",
       "Residuals:\n",
       "    Min      1Q  Median      3Q     Max \n",
       "-83.656 -23.936  -1.085  22.635 105.297 \n",
       "\n",
       "Coefficients:\n",
       "             Estimate Std. Error t value Pr(>|t|)  \n",
       "(Intercept)   148.156    282.552   0.524   0.6024  \n",
       "Treatment      -9.788     20.361  -0.481   0.6329  \n",
       "x1            -11.930    304.171  -0.039   0.9689  \n",
       "x2           -221.436    399.319  -0.555   0.5818  \n",
       "x3            816.653    317.934   2.569   0.0134 *\n",
       "x4           -186.051    353.289  -0.527   0.6009  \n",
       "x5            236.162    465.177   0.508   0.6140  \n",
       "x6           -200.931    292.433  -0.687   0.4953  \n",
       "x7             11.215    373.844   0.030   0.9762  \n",
       "x8            392.652    387.501   1.013   0.3160  \n",
       "x9            119.413    287.984   0.415   0.6802  \n",
       "x10           258.702    370.835   0.698   0.4888  \n",
       "x11           350.961    313.694   1.119   0.2688  \n",
       "x12            78.661    424.961   0.185   0.8539  \n",
       "x13            56.722    321.638   0.176   0.8608  \n",
       "x14            38.268    358.857   0.107   0.9155  \n",
       "x15          -130.278    384.272  -0.339   0.7361  \n",
       "x16          -519.565    396.295  -1.311   0.1961  \n",
       "x17           491.486    300.808   1.634   0.1088  \n",
       "x18           404.628    385.538   1.050   0.2992  \n",
       "x19            51.418    338.901   0.152   0.8800  \n",
       "x20          -715.931    396.275  -1.807   0.0771 .\n",
       "x21           264.604    370.031   0.715   0.4780  \n",
       "x22          -261.630    331.936  -0.788   0.4345  \n",
       "x23           228.426    333.559   0.685   0.4968  \n",
       "x24            43.411    338.004   0.128   0.8983  \n",
       "x25           259.793    352.715   0.737   0.4650  \n",
       "x26           135.482    338.881   0.400   0.6911  \n",
       "x27            39.541    340.356   0.116   0.9080  \n",
       "x28           523.684    346.103   1.513   0.1368  \n",
       "x29           140.051    291.732   0.480   0.6334  \n",
       "x30            16.487    410.011   0.040   0.9681  \n",
       "x31           -60.873    335.169  -0.182   0.8566  \n",
       "x32            41.618    323.978   0.128   0.8983  \n",
       "x33          -344.452    366.967  -0.939   0.3526  \n",
       "x34          -266.615    391.909  -0.680   0.4996  \n",
       "x35            98.484    304.298   0.324   0.7476  \n",
       "x36           212.348    360.148   0.590   0.5582  \n",
       "x37          -254.785    313.771  -0.812   0.4208  \n",
       "x38            35.086    313.170   0.112   0.9113  \n",
       "x39          -499.325    378.638  -1.319   0.1935  \n",
       "x40          -114.749    377.026  -0.304   0.7622  \n",
       "x41           212.106    380.380   0.558   0.5797  \n",
       "x42           110.738    398.023   0.278   0.7820  \n",
       "x43            14.570    333.006   0.044   0.9653  \n",
       "x44            72.364    346.980   0.209   0.8357  \n",
       "x45          -295.579    338.000  -0.874   0.3862  \n",
       "x46           277.298    290.598   0.954   0.3447  \n",
       "x47           175.790    339.903   0.517   0.6074  \n",
       "x48          -189.716    335.450  -0.566   0.5743  \n",
       "x49          -233.110    302.977  -0.769   0.4454  \n",
       "x50          -267.369    313.154  -0.854   0.3975  \n",
       "polyx1       -173.872    730.093  -0.238   0.8128  \n",
       "polyx2        724.804    887.593   0.817   0.4182  \n",
       "polyx3       -296.948    749.481  -0.396   0.6937  \n",
       "polyx4        551.711    868.540   0.635   0.5283  \n",
       "polyx5      -1015.669   1093.777  -0.929   0.3577  \n",
       "polyx6        220.950    700.584   0.315   0.7538  \n",
       "polyx7        762.208    876.584   0.870   0.3889  \n",
       "polyx8      -1105.081    922.453  -1.198   0.2368  \n",
       "polyx9       -469.026    729.502  -0.643   0.5233  \n",
       "polyx10      -714.510    930.574  -0.768   0.4464  \n",
       "polyx11     -1052.920    720.882  -1.461   0.1506  \n",
       "polyx12      -156.128    996.888  -0.157   0.8762  \n",
       "polyx13      -269.033    765.255  -0.352   0.7267  \n",
       "polyx14       172.146    866.014   0.199   0.8433  \n",
       "polyx15       256.795    841.061   0.305   0.7614  \n",
       "polyx16       934.463    937.412   0.997   0.3238  \n",
       "polyx17     -1322.865    719.969  -1.837   0.0723 .\n",
       "polyx18     -1070.208    846.016  -1.265   0.2120  \n",
       "polyx19       328.955    833.941   0.394   0.6950  \n",
       "polyx20      1709.744    938.983   1.821   0.0749 .\n",
       "polyx21      -725.395    894.264  -0.811   0.4213  \n",
       "polyx22       340.914    718.620   0.474   0.6374  \n",
       "polyx23      -516.696    756.905  -0.683   0.4981  \n",
       "polyx24        55.500    826.140   0.067   0.9467  \n",
       "polyx25      -762.905    786.084  -0.971   0.3367  \n",
       "polyx26      -374.843    762.674  -0.491   0.6253  \n",
       "polyx27      -326.717    844.607  -0.387   0.7006  \n",
       "polyx28      -828.116    775.274  -1.068   0.2908  \n",
       "polyx29       -50.588    674.069  -0.075   0.9405  \n",
       "polyx30      -141.633    926.647  -0.153   0.8792  \n",
       "polyx31       336.473    787.720   0.427   0.6712  \n",
       "polyx32      -136.841    793.348  -0.172   0.8638  \n",
       "polyx33       720.584    812.798   0.887   0.3797  \n",
       "polyx34       513.178    914.639   0.561   0.5774  \n",
       "polyx35       -77.678    740.241  -0.105   0.9169  \n",
       "polyx36      -525.648    814.640  -0.645   0.5218  \n",
       "polyx37       674.300    679.285   0.993   0.3259  \n",
       "polyx38      -391.567    778.085  -0.503   0.6171  \n",
       "polyx39      1302.195    863.298   1.508   0.1380  \n",
       "polyx40       244.491    814.195   0.300   0.7653  \n",
       "polyx41      -563.410    924.897  -0.609   0.5453  \n",
       "polyx42      -566.688    881.248  -0.643   0.5233  \n",
       "polyx43      -171.063    793.156  -0.216   0.8302  \n",
       "polyx44      -223.679    812.643  -0.275   0.7843  \n",
       "polyx45       638.997    848.108   0.753   0.4549  \n",
       "polyx46      -740.049    701.948  -1.054   0.2970  \n",
       "polyx47      -736.596    813.142  -0.906   0.3695  \n",
       "polyx48       381.589    801.873   0.476   0.6363  \n",
       "polyx49       656.728    692.681   0.948   0.3478  \n",
       "polyx50       811.296    731.890   1.108   0.2732  \n",
       "polyx51       173.582    496.599   0.350   0.7282  \n",
       "polyx52      -543.276    567.076  -0.958   0.3428  \n",
       "polyx53        37.258    504.343   0.074   0.9414  \n",
       "polyx54      -431.115    589.084  -0.732   0.4678  \n",
       "polyx55      1295.190    735.102   1.762   0.0845 .\n",
       "polyx56      -127.319    476.305  -0.267   0.7904  \n",
       "polyx57      -214.867    571.984  -0.376   0.7088  \n",
       "polyx58       753.121    605.289   1.244   0.2195  \n",
       "polyx59       330.918    499.922   0.662   0.5112  \n",
       "polyx60       552.988    639.387   0.865   0.3914  \n",
       "polyx61       787.853    481.433   1.636   0.1083  \n",
       "polyx62        43.695    643.055   0.068   0.9461  \n",
       "polyx63       215.982    513.848   0.420   0.6761  \n",
       "polyx64      -193.224    586.664  -0.329   0.7433  \n",
       "polyx65      -120.855    525.014  -0.230   0.8189  \n",
       "polyx66      -541.876    627.185  -0.864   0.3919  \n",
       "polyx67       958.981    487.331   1.968   0.0549 .\n",
       "polyx68       693.552    535.950   1.294   0.2018  \n",
       "polyx69      -438.185    569.326  -0.770   0.4453  \n",
       "polyx70     -1101.430    605.743  -1.818   0.0753 .\n",
       "polyx71       525.388    612.237   0.858   0.3951  \n",
       "polyx72       -79.095    458.858  -0.172   0.8639  \n",
       "polyx73       320.769    492.310   0.652   0.5178  \n",
       "polyx74       -75.325    556.521  -0.135   0.8929  \n",
       "polyx75       635.582    509.019   1.249   0.2179  \n",
       "polyx76       281.367    493.130   0.571   0.5710  \n",
       "polyx77       322.645    579.530   0.557   0.5803  \n",
       "polyx78       350.712    495.977   0.707   0.4829  \n",
       "polyx79       -58.413    450.625  -0.130   0.8974  \n",
       "polyx80        95.818    598.727   0.160   0.8735  \n",
       "polyx81      -270.142    525.494  -0.514   0.6096  \n",
       "polyx82       111.576    530.756   0.210   0.8344  \n",
       "polyx83      -407.496    521.385  -0.782   0.4383  \n",
       "polyx84      -271.481    605.103  -0.449   0.6557  \n",
       "polyx85       -43.709    494.273  -0.088   0.9299  \n",
       "polyx86       392.486    517.448   0.759   0.4519  \n",
       "polyx87      -459.181    425.549  -1.079   0.2860  \n",
       "polyx88       337.843    535.460   0.631   0.5311  \n",
       "polyx89      -941.063    559.382  -1.682   0.0990 .\n",
       "polyx90      -155.925    517.910  -0.301   0.7647  \n",
       "polyx91       388.123    611.545   0.635   0.5287  \n",
       "polyx92       490.366    552.941   0.887   0.3796  \n",
       "polyx93       132.169    526.071   0.251   0.8027  \n",
       "polyx94       133.134    534.196   0.249   0.8043  \n",
       "polyx95      -374.995    579.416  -0.647   0.5206  \n",
       "polyx96       552.469    462.303   1.195   0.2379  \n",
       "polyx97       602.796    545.008   1.106   0.2742  \n",
       "polyx98      -188.089    544.734  -0.345   0.7314  \n",
       "polyx99      -456.724    453.230  -1.008   0.3186  \n",
       "polyx100     -606.472    482.190  -1.258   0.2146  \n",
       "---\n",
       "Signif. codes:  0 ‘***’ 0.001 ‘**’ 0.01 ‘*’ 0.05 ‘.’ 0.1 ‘ ’ 1\n",
       "\n",
       "Residual standard error: 68.29 on 48 degrees of freedom\n",
       "Multiple R-squared:  0.9826,\tAdjusted R-squared:  0.9278 \n",
       "F-statistic: 17.93 on 151 and 48 DF,  p-value: < 2.2e-16\n"
      ]
     },
     "metadata": {},
     "output_type": "display_data"
    }
   ],
   "source": [
    "fit.lm.os <- lm(y~Treatment+x+polyx)\n",
    "  summary(fit.lm.os)"
   ]
  },
  {
   "cell_type": "markdown",
   "metadata": {},
   "source": [
    "Assume some x variables have binned effects on y and estimate OLS "
   ]
  },
  {
   "cell_type": "code",
   "execution_count": 13,
   "metadata": {},
   "outputs": [
    {
     "data": {
      "text/plain": [
       "\n",
       "Call:\n",
       "lm(formula = y ~ Treatment + x + dumx + polyx)\n",
       "\n",
       "Residuals:\n",
       "     Min       1Q   Median       3Q      Max \n",
       "-0.33797 -0.09564 -0.00537  0.09139  0.37277 \n",
       "\n",
       "Coefficients: (10 not defined because of singularities)\n",
       "              Estimate Std. Error  t value Pr(>|t|)    \n",
       "(Intercept)  344.09520   19.71657   17.452 1.19e-07 ***\n",
       "Treatment      2.08709    0.98226    2.125  0.06633 .  \n",
       "x1           -16.06694   20.12311   -0.798  0.44767    \n",
       "x2             2.42491   13.56478    0.179  0.86257    \n",
       "x3           578.81922   15.80207   36.629 3.38e-10 ***\n",
       "x4           -77.99840   25.33961   -3.078  0.01516 *  \n",
       "x5            36.05844   16.49822    2.186  0.06033 .  \n",
       "x6           -14.92017   11.79164   -1.265  0.24137    \n",
       "x7            26.33064   22.53185    1.169  0.27621    \n",
       "x8            11.33347   10.09418    1.123  0.29410    \n",
       "x9           -33.46767   22.30931   -1.500  0.17196    \n",
       "x10           -8.67133   18.11126   -0.479  0.64491    \n",
       "x11           31.08114   17.46702    1.779  0.11305    \n",
       "x12          -21.41018   13.75082   -1.557  0.15808    \n",
       "x13          -14.61425    7.56255   -1.932  0.08938 .  \n",
       "x14           -4.21730    5.84209   -0.722  0.49092    \n",
       "x15          -40.42408   15.41192   -2.623  0.03051 *  \n",
       "x16          -36.62829   14.97299   -2.446  0.04017 *  \n",
       "x17           10.19333   10.83709    0.941  0.37444    \n",
       "x18          -33.54380   11.15387   -3.007  0.01688 *  \n",
       "x19          -39.17907   18.08919   -2.166  0.06222 .  \n",
       "x20          -10.86032    9.34245   -1.162  0.27855    \n",
       "x21          -41.71499   17.03453   -2.449  0.04001 *  \n",
       "x22           13.26204    8.86162    1.497  0.17287    \n",
       "x23          -18.94015   12.66848   -1.495  0.17326    \n",
       "x24            7.54743    9.54792    0.790  0.45204    \n",
       "x25           20.36652   16.32929    1.247  0.24758    \n",
       "x26           12.67143   10.76960    1.177  0.27318    \n",
       "x27           -4.54778    7.69004   -0.591  0.57059    \n",
       "x28           33.30730   17.43559    1.910  0.09249 .  \n",
       "x29          -31.46555    8.57627   -3.669  0.00632 ** \n",
       "x30          -28.74236   13.35932   -2.151  0.06363 .  \n",
       "x31           14.48219    7.73600    1.872  0.09810 .  \n",
       "x32          -38.37579   11.38192   -3.372  0.00976 ** \n",
       "x33           26.14066    9.65538    2.707  0.02677 *  \n",
       "x34          -14.44663    8.48479   -1.703  0.12704    \n",
       "x35            7.68529    7.46650    1.029  0.33345    \n",
       "x36           23.39557    8.03421    2.912  0.01953 *  \n",
       "x37          -34.11899   12.91041   -2.643  0.02959 *  \n",
       "x38           -9.51472    9.56977   -0.994  0.34922    \n",
       "x39           19.59706   19.57981    1.001  0.34619    \n",
       "x40           -0.96058    8.98829   -0.107  0.91752    \n",
       "x41           33.61097   15.95294    2.107  0.06820 .  \n",
       "x42          -54.40447   17.07426   -3.186  0.01287 *  \n",
       "x43           15.22944    7.45039    2.044  0.07519 .  \n",
       "x44          -11.19234   15.68142   -0.714  0.49568    \n",
       "x45           14.55161    7.50594    1.939  0.08853 .  \n",
       "x46           11.69286   10.83301    1.079  0.31189    \n",
       "x47            5.24857    9.02137    0.582  0.57673    \n",
       "x48          -16.29277    8.79094   -1.853  0.10095    \n",
       "x49            6.46500    8.45334    0.765  0.46636    \n",
       "x50            0.51456    9.97265    0.052  0.96012    \n",
       "dumx1        -11.40107    7.56997   -1.506  0.17047    \n",
       "dumx2         -6.33982    4.40576   -1.439  0.18811    \n",
       "dumx3         -3.56493    2.64362   -1.349  0.21443    \n",
       "dumx4         -0.16916    1.46988   -0.115  0.91122    \n",
       "dumx5               NA         NA       NA       NA    \n",
       "dumx6          2.46984    4.20894    0.587  0.57351    \n",
       "dumx7          3.40158    4.15683    0.818  0.43687    \n",
       "dumx8          0.22442    2.93238    0.077  0.94088    \n",
       "dumx9         -1.45128    1.24462   -1.166  0.27718    \n",
       "dumx10              NA         NA       NA       NA    \n",
       "dumx11         1.85129    4.60569    0.402  0.69824    \n",
       "dumx12         3.12309    5.06617    0.616  0.55472    \n",
       "dumx13         5.70287    4.37545    1.303  0.22870    \n",
       "dumx14         4.58943    2.74367    1.673  0.13292    \n",
       "dumx15              NA         NA       NA       NA    \n",
       "dumx16        -8.83063    4.92767   -1.792  0.11089    \n",
       "dumx17        -3.42821    3.01675   -1.136  0.28868    \n",
       "dumx18        -4.75066    3.24945   -1.462  0.18189    \n",
       "dumx19        -0.08552    1.50624   -0.057  0.95612    \n",
       "dumx20              NA         NA       NA       NA    \n",
       "dumx21      -288.55034    7.61598  -37.887 2.59e-10 ***\n",
       "dumx22      -290.14015    5.61874  -51.638 2.19e-11 ***\n",
       "dumx23      -293.04318    3.38102  -86.673 3.50e-13 ***\n",
       "dumx24      -297.44902    1.57781 -188.521 7.01e-16 ***\n",
       "dumx25              NA         NA       NA       NA    \n",
       "dumx26        79.12243    7.25886   10.900 4.44e-06 ***\n",
       "dumx27        24.24948    5.55422    4.366  0.00239 ** \n",
       "dumx28        -1.92176    3.29126   -0.584  0.57538    \n",
       "dumx29         1.33457    1.31933    1.012  0.34136    \n",
       "dumx30              NA         NA       NA       NA    \n",
       "dumx31        -6.84436    5.50444   -1.243  0.24891    \n",
       "dumx32        -5.86006    4.11866   -1.423  0.19259    \n",
       "dumx33        -0.06000    3.11397   -0.019  0.98510    \n",
       "dumx34         0.10950    1.69382    0.065  0.95004    \n",
       "dumx35              NA         NA       NA       NA    \n",
       "dumx36         5.48969    2.56468    2.141  0.06473 .  \n",
       "dumx37         1.70315    2.73519    0.623  0.55083    \n",
       "dumx38         1.40807    1.83046    0.769  0.46385    \n",
       "dumx39         1.34755    1.26196    1.068  0.31676    \n",
       "dumx40              NA         NA       NA       NA    \n",
       "dumx41        94.37206    3.03171   31.128 1.23e-09 ***\n",
       "dumx42        47.40310    3.97378   11.929 2.24e-06 ***\n",
       "dumx43        65.46002    2.56676   25.503 5.99e-09 ***\n",
       "dumx44        -8.37417    2.05388   -4.077  0.00355 ** \n",
       "dumx45              NA         NA       NA       NA    \n",
       "dumx46         4.00624    2.78889    1.437  0.18879    \n",
       "dumx47         4.28708    2.39373    1.791  0.11108    \n",
       "dumx48        62.62783    2.07479   30.185 1.57e-09 ***\n",
       "dumx49         4.13239    1.19996    3.444  0.00877 ** \n",
       "dumx50              NA         NA       NA       NA    \n",
       "polyx1       -13.41757   26.30260   -0.510  0.62374    \n",
       "polyx2        12.78328   37.70976    0.339  0.74334    \n",
       "polyx3         1.57908   33.72828    0.047  0.96381    \n",
       "polyx4       164.15257   51.83597    3.167  0.01326 *  \n",
       "polyx5       -15.45753   34.73509   -0.445  0.66811    \n",
       "polyx6       -17.61747   42.01991   -0.419  0.68605    \n",
       "polyx7       495.71297   40.51335   12.236 1.85e-06 ***\n",
       "polyx8        22.32749   26.50037    0.843  0.42396    \n",
       "polyx9        78.95507   51.10924    1.545  0.16097    \n",
       "polyx10       25.54621   31.76749    0.804  0.44454    \n",
       "polyx11      -79.02325   40.11610   -1.970  0.08436 .  \n",
       "polyx12       40.66215   31.44112    1.293  0.23201    \n",
       "polyx13       31.01249   19.65419    1.578  0.15324    \n",
       "polyx14       11.75943   15.74906    0.747  0.47663    \n",
       "polyx15       91.50554   33.79728    2.707  0.02676 *  \n",
       "polyx16       98.37069   39.33049    2.501  0.03688 *  \n",
       "polyx17      -47.71097   31.68001   -1.506  0.17048    \n",
       "polyx18       57.07847   20.41187    2.796  0.02333 *  \n",
       "polyx19      104.09679   48.17557    2.161  0.06271 .  \n",
       "polyx20       22.70865   23.31642    0.974  0.35861    \n",
       "polyx21      103.07563   42.95075    2.400  0.04319 *  \n",
       "polyx22      -38.71603   21.39747   -1.809  0.10799    \n",
       "polyx23       28.76704   31.11261    0.925  0.38221    \n",
       "polyx24      -14.46490   22.39962   -0.646  0.53651    \n",
       "polyx25      -37.43604   36.16854   -1.035  0.33092    \n",
       "polyx26      -15.94842   23.91722   -0.667  0.52365    \n",
       "polyx27       -7.56844   16.92063   -0.447  0.66653    \n",
       "polyx28      -49.71243   31.62317   -1.572  0.15459    \n",
       "polyx29       69.27536   19.35348    3.579  0.00719 ** \n",
       "polyx30       59.83398   26.67932    2.243  0.05519 .  \n",
       "polyx31      -42.91061   16.90857   -2.538  0.03483 *  \n",
       "polyx32       91.09854   27.04319    3.369  0.00981 ** \n",
       "polyx33      -42.47789   17.14349   -2.478  0.03824 *  \n",
       "polyx34       30.60535   19.19126    1.595  0.14943    \n",
       "polyx35      -31.46894   21.91336   -1.436  0.18891    \n",
       "polyx36      -56.08189   18.12564   -3.094  0.01480 *  \n",
       "polyx37       70.17830   30.32338    2.314  0.04935 *  \n",
       "polyx38       16.54545   24.11548    0.686  0.51204    \n",
       "polyx39      -36.45036   41.41120   -0.880  0.40441    \n",
       "polyx40       26.61695   18.94271    1.405  0.19760    \n",
       "polyx41      -93.24548   43.65789   -2.136  0.06520 .  \n",
       "polyx42      107.96037   34.39735    3.139  0.01383 *  \n",
       "polyx43      -35.51834   19.84158   -1.790  0.11122    \n",
       "polyx44       32.53401   36.92990    0.881  0.40402    \n",
       "polyx45      -31.99515   17.76787   -1.801  0.10943    \n",
       "polyx46      -24.81659   23.59233   -1.052  0.32358    \n",
       "polyx47      -14.32505   20.72305   -0.691  0.50896    \n",
       "polyx48       50.91366   21.62021    2.355  0.04632 *  \n",
       "polyx49      -21.43014   20.82734   -1.029  0.33361    \n",
       "polyx50      -14.42461   18.77396   -0.768  0.46436    \n",
       "polyx51       15.81076   17.76112    0.890  0.39934    \n",
       "polyx52       -7.76716   25.15806   -0.309  0.76541    \n",
       "polyx53      -15.53705   18.57086   -0.837  0.42708    \n",
       "polyx54     -107.14986   35.18565   -3.045  0.01594 *  \n",
       "polyx55       -5.37500   28.44993   -0.189  0.85485    \n",
       "polyx56       22.86203   28.79279    0.794  0.45009    \n",
       "polyx57       74.46057   23.25206    3.202  0.01257 *  \n",
       "polyx58      -18.73670   19.09155   -0.981  0.35513    \n",
       "polyx59      -45.93800   30.79048   -1.492  0.17405    \n",
       "polyx60      -18.51201   17.08319   -1.084  0.31010    \n",
       "polyx61       56.18176   26.73192    2.102  0.06876 .  \n",
       "polyx62      -20.22898   18.93840   -1.068  0.31662    \n",
       "polyx63      -18.08972   14.18588   -1.275  0.23802    \n",
       "polyx64       -8.26521   11.83129   -0.699  0.50461    \n",
       "polyx65      -57.94225   20.92870   -2.769  0.02435 *  \n",
       "polyx66      -68.98290   26.54922   -2.598  0.03170 *  \n",
       "polyx67       40.36816   23.51522    1.717  0.12437    \n",
       "polyx68      -28.56554   11.83670   -2.413  0.04229 *  \n",
       "polyx69      -71.85353   33.84088   -2.123  0.06649 .  \n",
       "polyx70      -14.42629   15.90108   -0.907  0.39078    \n",
       "polyx71      -72.34161   30.00943   -2.411  0.04247 *  \n",
       "polyx72       29.43154   14.40527    2.043  0.07531 .  \n",
       "polyx73      -10.55660   20.04232   -0.527  0.61268    \n",
       "polyx74        9.08800   13.96458    0.651  0.53342    \n",
       "polyx75       18.87152   23.07010    0.818  0.43704    \n",
       "polyx76        1.69245   16.24640    0.104  0.91960    \n",
       "polyx77        9.49425   11.65702    0.814  0.43895    \n",
       "polyx78       21.97414   16.42829    1.338  0.21781    \n",
       "polyx79      -42.93202   12.18690   -3.523  0.00781 ** \n",
       "polyx80      -40.47362   16.87504   -2.398  0.04328 *  \n",
       "polyx81       30.85252   11.06423    2.788  0.02361 *  \n",
       "polyx82      -58.83812   17.71919   -3.321  0.01053 *  \n",
       "polyx83       20.35478   10.41892    1.954  0.08650 .  \n",
       "polyx84      -21.81608   12.47252   -1.749  0.11839    \n",
       "polyx85       23.87621   15.87394    1.504  0.17096    \n",
       "polyx86       36.63109   11.82022    3.099  0.01469 *  \n",
       "polyx87      -38.67180   18.48660   -2.092  0.06981 .  \n",
       "polyx88       -8.42904   16.61795   -0.507  0.62568    \n",
       "polyx89       20.32681   25.00939    0.813  0.43987    \n",
       "polyx90      -26.78251   14.12153   -1.897  0.09447 .  \n",
       "polyx91       64.71302   31.24354    2.071  0.07209 .  \n",
       "polyx92      -58.14997   19.34758   -3.006  0.01693 *  \n",
       "polyx93       23.31863   14.05644    1.659  0.13571    \n",
       "polyx94      -23.96079   22.93702   -1.045  0.32673    \n",
       "polyx95       21.04844   11.88815    1.771  0.11459    \n",
       "polyx96       14.57351   14.58279    0.999  0.34688    \n",
       "polyx97       12.70248   13.72963    0.925  0.38193    \n",
       "polyx98      -35.22226   14.76464   -2.386  0.04416 *  \n",
       "polyx99       20.12506   14.28147    1.409  0.19645    \n",
       "polyx100      11.75063   11.09678    1.059  0.32056    \n",
       "---\n",
       "Signif. codes:  0 ‘***’ 0.001 ‘**’ 0.01 ‘*’ 0.05 ‘.’ 0.1 ‘ ’ 1\n",
       "\n",
       "Residual standard error: 0.6812 on 8 degrees of freedom\n",
       "Multiple R-squared:      1,\tAdjusted R-squared:      1 \n",
       "F-statistic: 1.45e+05 on 191 and 8 DF,  p-value: < 2.2e-16\n"
      ]
     },
     "metadata": {},
     "output_type": "display_data"
    }
   ],
   "source": [
    "fit.lm.os <- lm(y~Treatment+x+dumx+polyx)\n",
    "  summary(fit.lm.os)"
   ]
  },
  {
   "cell_type": "markdown",
   "metadata": {},
   "source": [
    "Assume some x variables have binned and polynomial effects on y and estimate double selection"
   ]
  },
  {
   "cell_type": "code",
   "execution_count": 14,
   "metadata": {},
   "outputs": [
    {
     "data": {
      "text/plain": [
       "[1] \"Estimates and significance testing of the effect of target variables\"\n",
       "   Estimate. Std. Error t value Pr(>|t|)    \n",
       "d1    1.4340     0.3334   4.301  1.7e-05 ***\n",
       "---\n",
       "Signif. codes:  0 ‘***’ 0.001 ‘**’ 0.01 ‘*’ 0.05 ‘.’ 0.1 ‘ ’ 1\n",
       "\n"
      ]
     },
     "metadata": {},
     "output_type": "display_data"
    }
   ],
   "source": [
    "xds<-cbind(x,dumx,polyx)\n",
    "  \n",
    "fit.ds.os <- rlassoEffect(xds, y, Treatment, method = \"double selection\")\n",
    "summary(fit.ds.os)"
   ]
  },
  {
   "cell_type": "markdown",
   "metadata": {},
   "source": [
    "# Step 4: Monte Carlo"
   ]
  },
  {
   "cell_type": "markdown",
   "metadata": {},
   "source": [
    "Each of these method give much different coefficients for Treatment. We will use a Monte Carlo to visualize the distribution of coefficients and measure the type 1 and type 2 errors for the tests."
   ]
  },
  {
   "cell_type": "markdown",
   "metadata": {},
   "source": [
    "### Create output matrices\n",
    "Prefixes:\n",
    "* betahat~ -- estimates of Treatment coefficient\n",
    "* type1~ -- type one error(1), no type one error(0)\n",
    "* type2~ -- type two error(1), no type two error(0), where false null is less than or equal to zero \n",
    "\n",
    "Suffixes:\n",
    "* ~ols -- OLS estimation naive model\n",
    "* ~ols.os -- OLS estimation overspecified model\n",
    "* ~ds -- DS estimation naive model\n",
    "* ~ds.os -- DS estimation overspecified model"
   ]
  },
  {
   "cell_type": "code",
   "execution_count": 15,
   "metadata": {
    "collapsed": true
   },
   "outputs": [],
   "source": [
    "betahat.ols <- matrix(NA,nrow=n.sims,ncol=3)\n",
    "betahat.ds <- matrix(NA,nrow=n.sims,ncol=1)\n",
    "betahat.ols.os <- matrix(NA,nrow=n.sims,ncol=3)\n",
    "betahat.ds.os <- matrix(NA,nrow=n.sims,ncol=1)\n",
    "type1.ols <- matrix(NA,nrow=n.sims,ncol=1)\n",
    "type1.ds <- matrix(NA,nrow=n.sims,ncol=1)\n",
    "type1.ols.os <- matrix(NA,nrow=n.sims,ncol=1)\n",
    "type1.ds.os <- matrix(NA,nrow=n.sims,ncol=1)\n",
    "type2.ols <- matrix(NA,nrow=n.sims,ncol=1)\n",
    "type2.ds <- matrix(NA,nrow=n.sims,ncol=1)\n",
    "type2.ols.os <- matrix(NA,nrow=n.sims,ncol=1)\n",
    "type2.ds.os <- matrix(NA,nrow=n.sims,ncol=1)\n"
   ]
  },
  {
   "cell_type": "markdown",
   "metadata": {},
   "source": [
    "##### Takes 15-20 minutes to run\n",
    "* Run the Monte Carlo experiment using previously described data generating process\n",
    "\n",
    "* Calculate type 1 and type 2 errors"
   ]
  },
  {
   "cell_type": "code",
   "execution_count": 60,
   "metadata": {},
   "outputs": [
    {
     "name": "stdout",
     "output_type": "stream",
     "text": [
      "[1] \"1 of 40\"\n",
      "[1] \"2 of 40\"\n",
      "[1] \"3 of 40\"\n",
      "[1] \"4 of 40\"\n",
      "[1] \"5 of 40\"\n",
      "[1] \"6 of 40\"\n",
      "[1] \"7 of 40\"\n",
      "[1] \"8 of 40\"\n",
      "[1] \"9 of 40\"\n",
      "[1] \"10 of 40\"\n",
      "[1] \"11 of 40\"\n",
      "[1] \"12 of 40\"\n",
      "[1] \"13 of 40\"\n",
      "[1] \"14 of 40\"\n",
      "[1] \"15 of 40\"\n",
      "[1] \"16 of 40\"\n",
      "[1] \"17 of 40\"\n",
      "[1] \"18 of 40\"\n",
      "[1] \"19 of 40\"\n",
      "[1] \"20 of 40\"\n",
      "[1] \"21 of 40\"\n",
      "[1] \"22 of 40\"\n",
      "[1] \"23 of 40\"\n",
      "[1] \"24 of 40\"\n",
      "[1] \"25 of 40\"\n",
      "[1] \"26 of 40\"\n",
      "[1] \"27 of 40\"\n",
      "[1] \"28 of 40\"\n",
      "[1] \"29 of 40\"\n",
      "[1] \"30 of 40\"\n",
      "[1] \"31 of 40\"\n",
      "[1] \"32 of 40\"\n",
      "[1] \"33 of 40\"\n",
      "[1] \"34 of 40\"\n",
      "[1] \"35 of 40\"\n",
      "[1] \"36 of 40\"\n",
      "[1] \"37 of 40\"\n",
      "[1] \"38 of 40\"\n",
      "[1] \"39 of 40\"\n",
      "[1] \"40 of 40\"\n",
      "[1] \"type 1 error naive OLS rate = 0.675\"\n",
      "[1] \"type 1 error naive DS rate = 0.525\"\n",
      "[1] \"type 1 error overspecified OLS rate = 0.45\"\n",
      "[1] \"type 1 error overspecified DS rate = 0.4\"\n",
      "[1] \"type 2 error naive OLS rate = 0.975\"\n",
      "[1] \"type 2 error naive DS rate = 0.95\"\n",
      "[1] \"type 2 error overspecified OLS rate = 0.975\"\n",
      "[1] \"type 2 error overspecified DS rate = 0.55\"\n"
     ]
    }
   ],
   "source": [
    "\n",
    "for(j in 1:n.sims){\n",
    "# Create data  \n",
    "  x <- matrix(runif(N*50), nrow = N, ncol = 50)\n",
    "  Treatment<-sample(rep(0:1,N/2))\n",
    "  polyx<-cbind(x^2,x^3)\n",
    "  nvar<-20\n",
    "    quants<-5\n",
    "    dumx<-matrix(nrow=N,ncol=5*nvar)\n",
    "  for(i in 1:nvar){\n",
    "    indx<- factor(as.numeric(cut2(x[,i], g=quants)))\n",
    "    dumx[,((quants*i)-(quants-1)):(quants*i)]<-model.matrix(~indx-1)\n",
    "  }\n",
    "# Create y    \n",
    "  y <- Treatment+x[,1] * 2+ x[,2] * 2.5 + 600*x[,3]-20*x[,3]^2-20*x[,3]^3+\n",
    "                #3*exp(x[,4]+x[,10])+2*log(x[,6]+x[,10]+100)+ \n",
    "                600*x[,7]^2+30*x[,8]^2- 20*x[,8]^3+\n",
    "                300*dumx[,(quants*5)]+90*dumx[,(quants*5)+1]+30*dumx[,(quants*5)+2]+\n",
    "                100*dumx[,(quants*8)+1]+50*dumx[,(quants*8)+2]+70*dumx[,(quants*8)+3]+\n",
    "                10*dumx[,(quants*9)]+60*dumx[,(quants*9)+3]-6*dumx[,(quants*9)+5]+\n",
    "                rnorm(N)\n",
    "#### Estimating true relationships\n",
    "# Estimate naive OLS  \n",
    "  fit.lm <- lm(y~Treatment+x)\n",
    "  summary(fit.lm)\n",
    "  \n",
    "  b<-coef(summary(fit.lm))[,\"Estimate\"][2]\n",
    "  s<-coef(summary(fit.lm))[,\"Std. Error\"][2]\n",
    "  p<-coef(summary(fit.lm))[,\"Pr(>|t|)\"][2]\n",
    "   \n",
    "  t<-(b-1)/(s/sqrt(N))\n",
    "# Store relavant statistics\n",
    "  betahat.ols[j,]<-b\n",
    "  \n",
    "  if(t>1.96){\n",
    "    type1.ols[j,1]<-1\n",
    "  }\n",
    "  else{\n",
    "    type1.ols[j,1]<-0\n",
    "  }\n",
    "  \n",
    "  if(b<0 | p>.05){\n",
    "    type2.ols[j,1]<-1\n",
    "  }\n",
    "  else{\n",
    "    type2.ols[j,1]<-0\n",
    "  }\n",
    "\n",
    "# Estimate naive DS  \n",
    "  fit.ds <- rlassoEffect(x, y, Treatment, method = \"double selection\")\n",
    "  summary(fit.ds)\n",
    "  \n",
    "  b.ds<-coef(summary(fit.ds))[,\"Estimate.\"][1]\n",
    "  s.ds<-coef(summary(fit.ds))[,\"Std. Error\"][1]\n",
    "  p.ds<-coef(summary(fit.ds))[,\"Pr(>|t|)\"][1]\n",
    "  \n",
    "  t.ds<-(b.ds-1)/(s.ds/sqrt(N))\n",
    "# Store relavant statistics  \n",
    "  betahat.ds[j,]<-b.ds\n",
    "  \n",
    "  if(t.ds>1.96){\n",
    "    type1.ds[j,1]<-1\n",
    "  }\n",
    "  else{\n",
    "    type1.ds[j,1]<-0\n",
    "  }\n",
    "  if(b.ds<0 | p.ds>.05){\n",
    "    type2.ds[j,1]<-1\n",
    "  }\n",
    "  else{\n",
    "    type2.ds[j,1]<-0\n",
    "  }\n",
    " \n",
    "## Overspecify\n",
    "# Estimate overspecified OLS \n",
    "  fit.lm.os <- lm(y~Treatment+x+dumx)\n",
    "  summary(fit.lm.os)\n",
    "  \n",
    "  \n",
    "  b.os<-coef(summary(fit.lm.os))[,\"Estimate\"][2]\n",
    "  s.os<-coef(summary(fit.lm.os))[,\"Std. Error\"][2]\n",
    "  p.os<-coef(summary(fit.lm.os))[,\"Pr(>|t|)\"][2]\n",
    "  \n",
    "  t.os<-(b.os-1)/(s.os/sqrt(N))\n",
    "# Store relavant statistics  \n",
    "  betahat.ols.os[j,]<-b.os\n",
    "  \n",
    "  if(t.os>1.96){\n",
    "    type1.ols.os[j,1]<-1\n",
    "  }\n",
    "  else{\n",
    "    type1.ols.os[j,1]<-0\n",
    "  }\n",
    "  \n",
    "  if(b.os<0 | p.os>.05){\n",
    "    type2.ols.os[j,1]<-1\n",
    "  }\n",
    "  else{\n",
    "    type2.ols.os[j,1]<-0\n",
    "  }\n",
    "\n",
    "# Estimate overspecified DS\n",
    "  xds<-cbind(x,dumx,polyx)\n",
    "  \n",
    "  fit.ds.os <- rlassoEffect(xds, y, Treatment, method = \"double selection\")\n",
    "  summary(fit.ds.os)\n",
    "  \n",
    "  b.ds.os<-coef(summary(fit.ds.os))[,\"Estimate.\"][1]\n",
    "  s.ds.os<-coef(summary(fit.ds.os))[,\"Std. Error\"][1]\n",
    "  p.ds.os<-coef(summary(fit.ds.os))[,\"Pr(>|t|)\"][1]\n",
    "  \n",
    "  t.ds.os<-(b.ds.os-1)/(s.ds.os/sqrt(N))\n",
    "# Store relavant statistics  \n",
    "  betahat.ds.os[j,]<-b.ds.os\n",
    "  \n",
    "  if(t.ds.os>1.96){\n",
    "    type1.ds.os[j,1]<-1\n",
    "  }\n",
    "  else{\n",
    "    type1.ds.os[j,1]<-0\n",
    "  }\n",
    "  \n",
    "  if(b.ds.os<0 | p.ds.os>.05){\n",
    "    type2.ds.os[j,1]<-1\n",
    "  }\n",
    "  else{\n",
    "    type2.ds.os[j,1]<-0\n",
    "  }\n",
    "  print(paste0(j, ' of ',n.sims))\n",
    "}\n",
    "\n",
    "# Print type 1 and type 2 errors\n",
    "print(paste0('type 1 error naive OLS rate = ',colMeans(type1.ols)))\n",
    "print(paste0('type 1 error naive DS rate = ',colMeans(type1.ds)))\n",
    "print(paste0('type 1 error overspecified OLS rate = ',colMeans(type1.ols.os)))\n",
    "print(paste0('type 1 error overspecified DS rate = ',colMeans(type1.ds.os)))\n",
    "\n",
    "print(paste0('type 2 error naive OLS rate = ',colMeans(type2.ols)))\n",
    "print(paste0('type 2 error naive DS rate = ',colMeans(type2.ds)))\n",
    "print(paste0('type 2 error overspecified OLS rate = ',colMeans(type2.ols.os)))\n",
    "print(paste0('type 2 error overspecified DS rate = ',colMeans(type2.ds.os)))\n",
    "\n"
   ]
  },
  {
   "cell_type": "markdown",
   "metadata": {
    "collapsed": true
   },
   "source": [
    "Save density plots of coefficients"
   ]
  },
  {
   "cell_type": "code",
   "execution_count": 58,
   "metadata": {},
   "outputs": [
    {
     "data": {
      "text/html": [
       "<strong>png:</strong> 2"
      ],
      "text/latex": [
       "\\textbf{png:} 2"
      ],
      "text/markdown": [
       "**png:** 2"
      ],
      "text/plain": [
       "png \n",
       "  2 "
      ]
     },
     "metadata": {},
     "output_type": "display_data"
    },
    {
     "data": {
      "text/html": [
       "<strong>png:</strong> 2"
      ],
      "text/latex": [
       "\\textbf{png:} 2"
      ],
      "text/markdown": [
       "**png:** 2"
      ],
      "text/plain": [
       "png \n",
       "  2 "
      ]
     },
     "metadata": {},
     "output_type": "display_data"
    },
    {
     "data": {
      "text/html": [
       "<strong>png:</strong> 2"
      ],
      "text/latex": [
       "\\textbf{png:} 2"
      ],
      "text/markdown": [
       "**png:** 2"
      ],
      "text/plain": [
       "png \n",
       "  2 "
      ]
     },
     "metadata": {},
     "output_type": "display_data"
    },
    {
     "data": {
      "text/html": [
       "<strong>png:</strong> 2"
      ],
      "text/latex": [
       "\\textbf{png:} 2"
      ],
      "text/markdown": [
       "**png:** 2"
      ],
      "text/plain": [
       "png \n",
       "  2 "
      ]
     },
     "metadata": {},
     "output_type": "display_data"
    }
   ],
   "source": [
    "png(filename='MisspecDS.png')\n",
    "\n",
    "plot (density(betahat.ds),col=\"red\",main = \"\",xlab=\"Treatment Coefficient Estimate (True = 1)\")\n",
    "title(main = \"Density Plot of naive Double Selection\")\n",
    "\n",
    "dev.off()\n",
    "\n",
    "png(filename='MisspecOLS.png')\n",
    "\n",
    "plot (density(betahat.ols),col=\"red\",main = \"\",xlab=\"Treatment Coefficient Estimate (True = 1)\")\n",
    "title(main = \"Density Plot of naive OLS\")\n",
    "\n",
    "dev.off()\n",
    "\n",
    "\n",
    "png(filename='MisspecDSos.png')\n",
    "\n",
    "plot (density(betahat.ds.os),col=\"red\",main = \"\",xlab=\"Treatment Coefficient Estimate (True = 1)\")\n",
    "title(main = \"Density Plot of overspecified Double Selection\")\n",
    "\n",
    "dev.off()\n",
    "\n",
    "png(filename='MisspecOLSos.png')\n",
    "\n",
    "plot (density(betahat.ols.os),col=\"red\",main = \"\",xlab=\"Treatment Coefficient Estimate (True = 1)\")\n",
    "title(main = \"Density Plot of overspecified OLS\")\n",
    "\n",
    "dev.off()"
   ]
  },
  {
   "cell_type": "markdown",
   "metadata": {
    "collapsed": true
   },
   "source": [
    "### Question 1\n",
    "\n",
    "Which the four methods has the best distribution? Why? What assumptions of OLS and DS are violated in the naive models? \n",
    "\n",
    "### Question 2\n",
    "\n",
    "Why does the overspecified OLS have a lower type 1 error rate? \n",
    "\n",
    "### Question 3\n",
    "\n",
    "The type 2 error rate is calculated incorrectly. Describe how would you correct it? \n",
    "\n",
    "### Question 4\n",
    "\n",
    "Create a correlation between the Treatment and the independent variables. How does this change the OLS and DS coefficents? What other methods can be used to deal with this specification?"
   ]
  },
  {
   "cell_type": "markdown",
   "metadata": {
    "collapsed": true
   },
   "source": [
    "### Question 5"
   ]
  },
  {
   "cell_type": "markdown",
   "metadata": {},
   "source": [
    "Change the model or data generating process so that an assumption of double selection is violated. How does this affect the ability of the model to draw valid inference?"
   ]
  },
  {
   "cell_type": "code",
   "execution_count": null,
   "metadata": {
    "collapsed": true
   },
   "outputs": [],
   "source": []
  }
 ],
 "metadata": {
  "kernelspec": {
   "display_name": "R",
   "language": "R",
   "name": "ir"
  },
  "language_info": {
   "codemirror_mode": "r",
   "file_extension": ".r",
   "mimetype": "text/x-r-source",
   "name": "R",
   "pygments_lexer": "r",
   "version": "3.3.2"
  }
 },
 "nbformat": 4,
 "nbformat_minor": 2
}
